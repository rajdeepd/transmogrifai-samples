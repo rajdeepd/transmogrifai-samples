{
 "cells": [
  {
   "cell_type": "code",
   "execution_count": 1,
   "metadata": {},
   "outputs": [
    {
     "data": {
      "application/vnd.jupyter.widget-view+json": {
       "model_id": "",
       "version_major": 2,
       "version_minor": 0
      },
      "method": "display_data"
     },
     "metadata": {},
     "output_type": "display_data"
    },
    {
     "data": {
      "application/vnd.jupyter.widget-view+json": {
       "model_id": "ac09a22e-86bb-445a-898d-f80230c6a6f2",
       "version_major": 2,
       "version_minor": 0
      },
      "method": "display_data"
     },
     "metadata": {},
     "output_type": "display_data"
    }
   ],
   "source": [
    "%classpath add mvn com.salesforce.transmogrifai transmogrifai-core_2.11 0.5.1"
   ]
  },
  {
   "cell_type": "code",
   "execution_count": 2,
   "metadata": {},
   "outputs": [
    {
     "data": {
      "application/vnd.jupyter.widget-view+json": {
       "model_id": "",
       "version_major": 2,
       "version_minor": 0
      },
      "method": "display_data"
     },
     "metadata": {},
     "output_type": "display_data"
    },
    {
     "data": {
      "application/vnd.jupyter.widget-view+json": {
       "model_id": "96062719-04f1-4573-a332-73a35a2a1609",
       "version_major": 2,
       "version_minor": 0
      },
      "method": "display_data"
     },
     "metadata": {},
     "output_type": "display_data"
    }
   ],
   "source": [
    "%classpath add mvn org.apache.spark spark-mllib_2.11 2.3.0"
   ]
  },
  {
   "cell_type": "code",
   "execution_count": 3,
   "metadata": {},
   "outputs": [
    {
     "data": {
      "text/plain": [
       "import org.apache.spark.SparkConf\n",
       "import org.apache.spark.sql.SparkSession\n",
       "import org.apache.spark.SparkContext\n",
       "import org.apache.spark.sql.functions.udf\n",
       "import com.salesforce.op._\n",
       "import com.salesforce.op.features._\n",
       "import com.salesforce.op.features.types._\n",
       "import com.salesforce.op.stages.impl.classification._\n",
       "import com.salesforce.op.evaluators.Evaluators\n"
      ]
     },
     "execution_count": 3,
     "metadata": {},
     "output_type": "execute_result"
    }
   ],
   "source": [
    "import org.apache.spark.SparkConf\n",
    "import org.apache.spark.sql.SparkSession\n",
    "import org.apache.spark.SparkContext\n",
    "import org.apache.spark.sql.functions.udf\n",
    "\n",
    "import com.salesforce.op._\n",
    "import com.salesforce.op.features._\n",
    "import com.salesforce.op.features.types._\n",
    "import com.salesforce.op.stages.impl.classification._\n",
    "import com.salesforce.op.evaluators.Evaluators"
   ]
  },
  {
   "cell_type": "code",
   "execution_count": 9,
   "metadata": {},
   "outputs": [
    {
     "data": {
      "text/plain": [
       "import com.salesforce.op.OpWorkflow\n",
       "import com.salesforce.op.evaluators.Evaluators\n",
       "import com.salesforce.op.readers.DataReaders\n"
      ]
     },
     "execution_count": 9,
     "metadata": {},
     "output_type": "execute_result"
    }
   ],
   "source": [
    "import com.salesforce.op.OpWorkflow\n",
    "import com.salesforce.op.evaluators.Evaluators\n",
    "import com.salesforce.op.readers.DataReaders"
   ]
  },
  {
   "cell_type": "code",
   "execution_count": 10,
   "metadata": {},
   "outputs": [
    {
     "data": {
      "text/plain": [
       "org.apache.spark.sql.SparkSession@7cd77893"
      ]
     },
     "execution_count": 10,
     "metadata": {},
     "output_type": "execute_result"
    }
   ],
   "source": [
    "val conf = new SparkConf().setMaster(\"local[*]\").setAppName(\"TitanicPrediction\")\n",
    "implicit val spark = SparkSession.builder.config(conf).getOrCreate()"
   ]
  },
  {
   "cell_type": "code",
   "execution_count": 11,
   "metadata": {},
   "outputs": [
    {
     "data": {
      "text/plain": [
       "defined class SimpleRegression\n"
      ]
     },
     "execution_count": 11,
     "metadata": {},
     "output_type": "execute_result"
    }
   ],
   "source": [
    "case class SimpleRegression (\n",
    "  population: Double,\n",
    "  profit: Double)"
   ]
  },
  {
   "cell_type": "code",
   "execution_count": 12,
   "metadata": {},
   "outputs": [
    {
     "data": {
      "text/plain": [
       "Feature(name = profit, uid = RealNN_000000000004, isResponse = true, originStage = FeatureGeneratorStage_000000000004, parents = [], distributions = [])"
      ]
     },
     "execution_count": 12,
     "metadata": {},
     "output_type": "execute_result"
    }
   ],
   "source": [
    "val population = FeatureBuilder.RealNN[SimpleRegression].extract(_.population.toRealNN).asPredictor\n",
    "val profit = FeatureBuilder.RealNN[SimpleRegression].extract(_.profit.toRealNN).asResponse"
   ]
  },
  {
   "cell_type": "code",
   "execution_count": 16,
   "metadata": {},
   "outputs": [
    {
     "data": {
      "text/plain": [
       "org.apache.spark.sql.SparkSession$implicits$@3fc56cc7"
      ]
     },
     "execution_count": 16,
     "metadata": {},
     "output_type": "execute_result"
    }
   ],
   "source": [
    "import spark.implicits._\n",
    "\n",
    "val trainFilePath = \"../src/main/resources/SimpleRegressionDataset/simple_regression.csv\"\n",
    "\n",
    "val trainDataReader = DataReaders.Simple.csvCase[SimpleRegression](\n",
    "    path = Option(trainFilePath)\n",
    ")"
   ]
  },
  {
   "cell_type": "code",
   "execution_count": 17,
   "metadata": {},
   "outputs": [
    {
     "data": {
      "text/plain": [
       "true"
      ]
     },
     "execution_count": 17,
     "metadata": {},
     "output_type": "execute_result"
    }
   ],
   "source": [
    "// check that path exists\n",
    "scala.reflect.io.File(trainFilePath).exists"
   ]
  },
  {
   "cell_type": "code",
   "execution_count": 19,
   "metadata": {},
   "outputs": [
    {
     "data": {
      "text/plain": [
       "DataSplitter_000000000007"
      ]
     },
     "execution_count": 19,
     "metadata": {},
     "output_type": "execute_result"
    }
   ],
   "source": [
    "import com.salesforce.op.stages.impl.tuning.{DataCutter, DataSplitter}\n",
    "val features = Seq(population).transmogrify()\n",
    "val randomSeed = 42L\n",
    "val splitter = DataSplitter(seed = randomSeed)"
   ]
  },
  {
   "cell_type": "code",
   "execution_count": 22,
   "metadata": {},
   "outputs": [
    {
     "data": {
      "text/plain": [
       "Feature(name = population-profit_3-stagesApplied_Prediction_000000000011, uid = Prediction_000000000011, isResponse = true, originStage = ModelSelector_000000000011, parents = [RealNN_000000000004,OPVector_000000000006], distributions = [])"
      ]
     },
     "execution_count": 22,
     "metadata": {},
     "output_type": "execute_result"
    }
   ],
   "source": [
    "import com.salesforce.op.stages.impl.regression.RegressionModelsToTry.{OpGBTRegressor, OpRandomForestRegressor}\n",
    "import com.salesforce.op.stages.impl.regression.RegressionModelSelector\n",
    "\n",
    "val cutter = DataCutter(reserveTestFraction = 0.2, seed = randomSeed)\n",
    "\n",
    "val prediction = RegressionModelSelector\n",
    "      .withCrossValidation(\n",
    "        dataSplitter = Some(splitter), seed = randomSeed,\n",
    "        modelTypesToUse = Seq(OpGBTRegressor, OpRandomForestRegressor)\n",
    ").setInput(profit, features).getOutput()"
   ]
  },
  {
   "cell_type": "code",
   "execution_count": 23,
   "metadata": {},
   "outputs": [
    {
     "data": {
      "text/plain": [
       "OpRegressionEvaluator_000000000012"
      ]
     },
     "execution_count": 23,
     "metadata": {},
     "output_type": "execute_result"
    }
   ],
   "source": [
    "val evaluator = Evaluators.Regression().setLabelCol(profit).\n",
    "      setPredictionCol(prediction)"
   ]
  },
  {
   "cell_type": "code",
   "execution_count": 24,
   "metadata": {},
   "outputs": [
    {
     "data": {
      "text/plain": [
       "com.salesforce.op.OpWorkflowModel@710ce57d"
      ]
     },
     "execution_count": 24,
     "metadata": {},
     "output_type": "execute_result"
    }
   ],
   "source": [
    "val workflow = new OpWorkflow().setResultFeatures(prediction, profit).setReader(trainDataReader)\n",
    "val workflowModel = workflow.train()"
   ]
  },
  {
   "cell_type": "code",
   "execution_count": 25,
   "metadata": {},
   "outputs": [
    {
     "name": "stdout",
     "output_type": "stream",
     "text": [
      "Evaluate:\n",
      "{\n",
      "  \"RootMeanSquaredError\" : 3.22865415217584,\n",
      "  \"MeanSquaredError\" : 10.424207634362292,\n",
      "  \"R2\" : 0.6531042203541152,\n",
      "  \"MeanAbsoluteError\" : 2.3330556193792265\n",
      "}\n",
      "+--------------------+-------+---------------------------------------------------------+\n",
      "|key                 |profit |population-profit_3-stagesApplied_Prediction_000000000011|\n",
      "+--------------------+-------+---------------------------------------------------------+\n",
      "|6777483601126752519 |17.592 |[prediction -> 3.706587562620248]                        |\n",
      "|-3233451928232662667|9.1302 |[prediction -> 2.2725921526937687]                       |\n",
      "|-2874598320917061466|13.662 |[prediction -> 7.857711177463028]                        |\n",
      "|-6655228925740401190|11.854 |[prediction -> 4.7661764649096545]                       |\n",
      "|6173061078876678299 |6.8233 |[prediction -> 2.6774891813962927]                       |\n",
      "|-640505054168190865 |11.886 |[prediction -> 7.024292748677156]                        |\n",
      "|6146948818121958743 |4.3483 |[prediction -> 4.736965107142062]                        |\n",
      "|-4098254554669349283|12.0   |[prediction -> 7.857711177463028]                        |\n",
      "|-2620047776099413816|6.5987 |[prediction -> 4.60055585066061]                         |\n",
      "|-7365799981068971604|3.8166 |[prediction -> 1.7436695954976449]                       |\n",
      "|1768913343560197358 |3.2522 |[prediction -> 2.4508260159711064]                       |\n",
      "|-4079906034546223112|15.505 |[prediction -> 15.581268490731619]                       |\n",
      "|3345887589251629997 |3.1551 |[prediction -> 2.4508260159711064]                       |\n",
      "|2109951270136623203 |7.2258 |[prediction -> 7.024292748677156]                        |\n",
      "|2170672027077461989 |0.71618|[prediction -> 2.441754604859995]                        |\n",
      "|6705492319012900045 |3.5129 |[prediction -> 1.9206711360345923]                       |\n",
      "|-7988784688116870209|5.3048 |[prediction -> 4.60055585066061]                         |\n",
      "|3998380308961419842 |0.56077|[prediction -> 1.7436695954976449]                       |\n",
      "|2481953789661327434 |3.6518 |[prediction -> 4.60055585066061]                         |\n",
      "|-2657795883469609804|5.3893 |[prediction -> 4.7661764649096545]                       |\n",
      "+--------------------+-------+---------------------------------------------------------+\n",
      "only showing top 20 rows\n",
      "\n"
     ]
    },
    {
     "data": {
      "text/plain": [
       "null"
      ]
     },
     "execution_count": 25,
     "metadata": {},
     "output_type": "execute_result"
    }
   ],
   "source": [
    "val dfScoreAndEvaluate = workflowModel.scoreAndEvaluate(evaluator)\n",
    "val dfScore = dfScoreAndEvaluate._1.withColumnRenamed(\"population-profit_3-stagesApplied_Prediction_000000000011\",\n",
    "      \"predicted_profit\")\n",
    "val dfEvaluate = dfScoreAndEvaluate._2\n",
    "println(\"Evaluate:\\n\" + dfEvaluate.toString())\n",
    "\n",
    "dfScore.show(false)"
   ]
  },
  {
   "cell_type": "code",
   "execution_count": null,
   "metadata": {},
   "outputs": [],
   "source": []
  }
 ],
 "metadata": {
  "kernelspec": {
   "display_name": "Scala",
   "language": "scala",
   "name": "scala"
  },
  "language_info": {
   "codemirror_mode": "text/x-scala",
   "file_extension": ".scala",
   "mimetype": "",
   "name": "Scala",
   "nbconverter_exporter": "",
   "version": "2.11.12"
  },
  "toc": {
   "base_numbering": 1,
   "nav_menu": {},
   "number_sections": false,
   "sideBar": false,
   "skip_h1_title": false,
   "title_cell": "Table of Contents",
   "title_sidebar": "Contents",
   "toc_cell": false,
   "toc_position": {},
   "toc_section_display": false,
   "toc_window_display": false
  }
 },
 "nbformat": 4,
 "nbformat_minor": 2
}
