{
 "cells": [
  {
   "cell_type": "markdown",
   "metadata": {},
   "source": [
    "## Loading the libraries"
   ]
  },
  {
   "cell_type": "code",
   "execution_count": 144,
   "metadata": {},
   "outputs": [
    {
     "data": {
      "application/vnd.jupyter.widget-view+json": {
       "model_id": "",
       "version_major": 2,
       "version_minor": 0
      },
      "method": "display_data"
     },
     "metadata": {},
     "output_type": "display_data"
    }
   ],
   "source": [
    "%classpath add mvn com.salesforce.transmogrifai transmogrifai-core_2.11 0.6.0"
   ]
  },
  {
   "cell_type": "code",
   "execution_count": 131,
   "metadata": {},
   "outputs": [
    {
     "data": {
      "application/vnd.jupyter.widget-view+json": {
       "model_id": "",
       "version_major": 2,
       "version_minor": 0
      },
      "method": "display_data"
     },
     "metadata": {},
     "output_type": "display_data"
    }
   ],
   "source": [
    "%classpath add mvn org.apache.spark spark-mllib_2.11 2.3.2"
   ]
  },
  {
   "cell_type": "markdown",
   "metadata": {},
   "source": [
    "## Import the classes"
   ]
  },
  {
   "cell_type": "code",
   "execution_count": 132,
   "metadata": {
    "scrolled": true
   },
   "outputs": [
    {
     "data": {
      "text/plain": [
       "import org.apache.spark.SparkConf\n",
       "import org.apache.spark.sql.SparkSession\n",
       "import org.apache.spark.SparkContext\n",
       "import org.apache.spark.sql.functions.udf\n",
       "import com.salesforce.op._\n",
       "import com.salesforce.op.features._\n",
       "import com.salesforce.op.features.types._\n",
       "import com.salesforce.op.stages.impl.classification._\n",
       "import com.salesforce.op.evaluators.Evaluators\n"
      ]
     },
     "execution_count": 132,
     "metadata": {},
     "output_type": "execute_result"
    }
   ],
   "source": [
    "import org.apache.spark.SparkConf\n",
    "import org.apache.spark.sql.SparkSession\n",
    "import org.apache.spark.SparkContext\n",
    "import org.apache.spark.sql.functions.udf\n",
    "\n",
    "import com.salesforce.op._\n",
    "import com.salesforce.op.features._\n",
    "import com.salesforce.op.features.types._\n",
    "import com.salesforce.op.stages.impl.classification._\n",
    "import com.salesforce.op.evaluators.Evaluators"
   ]
  },
  {
   "cell_type": "code",
   "execution_count": 133,
   "metadata": {},
   "outputs": [
    {
     "data": {
      "text/plain": [
       "import com.salesforce.op.OpWorkflow\n",
       "import com.salesforce.op.evaluators.Evaluators\n",
       "import com.salesforce.op.readers.DataReaders\n"
      ]
     },
     "execution_count": 133,
     "metadata": {},
     "output_type": "execute_result"
    }
   ],
   "source": [
    "import com.salesforce.op.OpWorkflow\n",
    "import com.salesforce.op.evaluators.Evaluators\n",
    "import com.salesforce.op.readers.DataReaders"
   ]
  },
  {
   "cell_type": "markdown",
   "metadata": {},
   "source": [
    "## Instantiate Spark"
   ]
  },
  {
   "cell_type": "code",
   "execution_count": 134,
   "metadata": {},
   "outputs": [
    {
     "data": {
      "text/plain": [
       "org.apache.spark.sql.SparkSession@41a992e4"
      ]
     },
     "execution_count": 134,
     "metadata": {},
     "output_type": "execute_result"
    }
   ],
   "source": [
    "val conf = new SparkConf().setMaster(\"local[*]\").setAppName(\"Airbnb analysis\")\n",
    "implicit val spark = SparkSession.builder.config(conf).getOrCreate()"
   ]
  },
  {
   "cell_type": "markdown",
   "metadata": {},
   "source": [
    "## Schema and Feature Creation"
   ]
  },
  {
   "cell_type": "code",
   "execution_count": 135,
   "metadata": {},
   "outputs": [
    {
     "data": {
      "text/plain": [
       "defined class SimpleRegression\n"
      ]
     },
     "execution_count": 135,
     "metadata": {},
     "output_type": "execute_result"
    }
   ],
   "source": [
    "//room_type\tneighbourhood\tnumber_of_reviews\tprice\n",
    "case class SimpleRegression (\n",
    "  roomType: String,\n",
    "  neighbourhood: String,\n",
    "  numberOfReviews: Integer,\n",
    "  price: Double\n",
    ")"
   ]
  },
  {
   "cell_type": "code",
   "execution_count": 136,
   "metadata": {},
   "outputs": [
    {
     "data": {
      "text/plain": [
       "Feature(name = price, uid = RealNN_0000000000f1, isResponse = true, originStage = FeatureGeneratorStage_0000000000f1, parents = [], distributions = [])"
      ]
     },
     "execution_count": 136,
     "metadata": {},
     "output_type": "execute_result"
    }
   ],
   "source": [
    "//val population = FeatureBuilder.RealNN[SimpleRegression].extract(_.population.toRealNN).asPredictor\n",
    "val roomType = FeatureBuilder.Text[SimpleRegression].extract(_.roomType.toText).asPredictor\n",
    "val neighbourhood = FeatureBuilder.Text[SimpleRegression].extract(_.neighbourhood.toText).asPredictor\n",
    "val numberOfReviews = FeatureBuilder.Integral[SimpleRegression].extract(_.numberOfReviews.toIntegral).asPredictor\n",
    "//val numberOfReviews = FeatureBuilder.RealNN[SimpleRegression].extract(\n",
    "//     v => Option(v.numberOfReviews).toRealNN(throw new Exception(\"no of reviews cannot be null\"))\n",
    "//).asPredictor\n",
    "val price = FeatureBuilder.RealNN[SimpleRegression].extract(_.price.toRealNN).asResponse"
   ]
  },
  {
   "cell_type": "markdown",
   "metadata": {},
   "source": [
    "## Load the data"
   ]
  },
  {
   "cell_type": "code",
   "execution_count": 137,
   "metadata": {},
   "outputs": [
    {
     "data": {
      "text/plain": [
       "org.apache.spark.sql.SparkSession$implicits$@229487f0"
      ]
     },
     "execution_count": 137,
     "metadata": {},
     "output_type": "execute_result"
    }
   ],
   "source": [
    "import spark.implicits._\n",
    "\n",
    "val trainFilePath = \"./data/listing_three_features.csv\"\n",
    "val trainDataReader = DataReaders.Simple.csvCase[SimpleRegression](\n",
    "    path = Option(trainFilePath)\n",
    ")"
   ]
  },
  {
   "cell_type": "code",
   "execution_count": 138,
   "metadata": {},
   "outputs": [
    {
     "data": {
      "text/plain": [
       "true"
      ]
     },
     "execution_count": 138,
     "metadata": {},
     "output_type": "execute_result"
    }
   ],
   "source": [
    "// check that path exists\n",
    "scala.reflect.io.File(trainFilePath).exists"
   ]
  },
  {
   "cell_type": "code",
   "execution_count": 139,
   "metadata": {},
   "outputs": [
    {
     "data": {
      "text/plain": [
       "DataSplitter_0000000000f5"
      ]
     },
     "execution_count": 139,
     "metadata": {},
     "output_type": "execute_result"
    }
   ],
   "source": [
    "import com.salesforce.op.stages.impl.tuning.{DataCutter, DataSplitter}\n",
    "val features = Seq(roomType, neighbourhood,numberOfReviews).transmogrify()\n",
    "val randomSeed = 42L\n",
    "val splitter = DataSplitter(seed = randomSeed)"
   ]
  },
  {
   "cell_type": "markdown",
   "metadata": {},
   "source": [
    "## Model Selector\n",
    "The ModelSelector is an Estimator that uses data to find the best model. "
   ]
  },
  {
   "cell_type": "code",
   "execution_count": 140,
   "metadata": {},
   "outputs": [
    {
     "data": {
      "text/plain": [
       "Feature(name = neighbourhood-numberOfReviews-price-roomType_4-stagesApplied_Prediction_0000000000ff, uid = Prediction_0000000000ff, isResponse = true, originStage = ModelSelector_0000000000ff, parents = [RealNN_0000000000f1,OPVector_0000000000f4], distributions = [])"
      ]
     },
     "execution_count": 140,
     "metadata": {},
     "output_type": "execute_result"
    }
   ],
   "source": [
    "//import com.salesforce.op.stages.impl.regression.RegressionModelsToTry.{OpGBTRegressor, OpRandomForestRegressor,OpLinearRegression}\n",
    "import com.salesforce.op.stages.impl.regression.RegressionModelsToTry.{OpLinearRegression}\n",
    "import com.salesforce.op.stages.impl.regression.RegressionModelSelector\n",
    "\n",
    "val cutter = DataCutter(reserveTestFraction = 0.2, seed = randomSeed)\n",
    "\n",
    "val prediction = RegressionModelSelector\n",
    "      .withCrossValidation(\n",
    "        dataSplitter = Some(splitter), seed = randomSeed,\n",
    "        //modelTypesToUse = Seq(OpGBTRegressor, OpRandomForestRegressor)\n",
    "        //modelTypesToUse = Seq(OpLinearRegression, \n",
    "        //                      OpRandomForestRegressor)\n",
    "        modelTypesToUse = Seq(OpLinearRegression)\n",
    "        \n",
    " \n",
    ").setInput(price,features).getOutput()"
   ]
  },
  {
   "cell_type": "markdown",
   "metadata": {},
   "source": [
    "## Evaluators and Workflow\n",
    "Factory that performs the evaluation of metrics for regression. The metrics returned are rmse, mse, r2 and mae.\n",
    "* Mean Squared Error (MSE)\t\n",
    "* Root Mean Squared Error (RMSE)\t\n",
    "* Mean Absolute Error (MAE)\t\n",
    "* Coefficient of Determination \n",
    "\n",
    "OpWorkflows create and transform the raw data needed to compute Features fed into them. In addition they optimize the application of Stages needed to create the final Features ensuring optimal computations within the full pipeline DAG. OpWorkflows can be fit to a given dataset using the .train() method. This produces an OpWorkflowModel which can then be saved to disk and applied to another dataset."
   ]
  },
  {
   "cell_type": "code",
   "execution_count": 141,
   "metadata": {},
   "outputs": [
    {
     "data": {
      "text/plain": [
       "OpRegressionEvaluator_000000000100"
      ]
     },
     "execution_count": 141,
     "metadata": {},
     "output_type": "execute_result"
    }
   ],
   "source": [
    "val evaluator = Evaluators.Regression().setLabelCol(price).\n",
    "      setPredictionCol(prediction)"
   ]
  },
  {
   "cell_type": "code",
   "execution_count": 142,
   "metadata": {},
   "outputs": [
    {
     "data": {
      "text/plain": [
       "com.salesforce.op.OpWorkflowModel@1d4ac211"
      ]
     },
     "execution_count": 142,
     "metadata": {},
     "output_type": "execute_result"
    }
   ],
   "source": [
    "val workflow = new OpWorkflow().setResultFeatures(prediction, price).setReader(trainDataReader)\n",
    "val workflowModel = workflow.train()"
   ]
  },
  {
   "cell_type": "markdown",
   "metadata": {},
   "source": [
    "## Score and evaluate"
   ]
  },
  {
   "cell_type": "code",
   "execution_count": 143,
   "metadata": {},
   "outputs": [
    {
     "name": "stdout",
     "output_type": "stream",
     "text": [
      "Evaluate:\n",
      "{\n",
      "  \"RootMeanSquaredError\" : 65.28712197274389,\n",
      "  \"MeanSquaredError\" : 4262.408295483939,\n",
      "  \"R2\" : 0.4262188601395154,\n",
      "  \"MeanAbsoluteError\" : 49.10125039144317\n",
      "}\n",
      "+--------------------+-----+------------------------------------------------------------------------------------+\n",
      "|key                 |price|neighbourhood-numberOfReviews-price-roomType_4-stagesApplied_Prediction_0000000000ff|\n",
      "+--------------------+-----+------------------------------------------------------------------------------------+\n",
      "|1983412920050712762 |83.0 |[prediction -> 64.17323999628853]                                                   |\n",
      "|8857413378039979245 |81.0 |[prediction -> 87.35390817344154]                                                   |\n",
      "|6553189074429511325 |69.0 |[prediction -> 61.9150261033396]                                                    |\n",
      "|2661168433446230458 |206.0|[prediction -> 75.16458872759063]                                                   |\n",
      "|-6564297660568305272|94.0 |[prediction -> 74.21376182529633]                                                   |\n",
      "|-7222656281021685760|104.0|[prediction -> 72.19325465792099]                                                   |\n",
      "|-4142719007578813480|208.0|[prediction -> 73.85720173693598]                                                   |\n",
      "|-3222749631578907265|50.0 |[prediction -> 67.80698488354821]                                                   |\n",
      "|-3860307966189850466|54.0 |[prediction -> 64.95450417666535]                                                   |\n",
      "|6871537967832518352 |42.0 |[prediction -> 60.438076390767506]                                                  |\n",
      "|-4720570626225817163|44.0 |[prediction -> 69.16747956538]                                                      |\n",
      "|-7562100243863040620|40.0 |[prediction -> 70.11830646767429]                                                   |\n",
      "|2493596955960101655 |65.0 |[prediction -> 84.32367666037496]                                                   |\n",
      "|2577776471113895408 |44.0 |[prediction -> 69.76174637931393]                                                   |\n",
      "|2207716902730194796 |40.0 |[prediction -> 70.11830646767429]                                                   |\n",
      "|-1018133483003363528|31.0 |[prediction -> 70.95028000718179]                                                   |\n",
      "|-8428611989478573597|49.0 |[prediction -> 71.48013448120027]                                                   |\n",
      "|2353883041432093673 |81.0 |[prediction -> 78.75891521645949]                                                   |\n",
      "|5701395857447461189 |60.0 |[prediction -> 89.19666453463316]                                                   |\n",
      "|5103454341026428125 |60.0 |[prediction -> 80.5203690511978]                                                    |\n",
      "+--------------------+-----+------------------------------------------------------------------------------------+\n",
      "only showing top 20 rows\n",
      "\n"
     ]
    },
    {
     "data": {
      "text/plain": [
       "null"
      ]
     },
     "execution_count": 143,
     "metadata": {},
     "output_type": "execute_result"
    }
   ],
   "source": [
    "val dfScoreAndEvaluate = workflowModel.scoreAndEvaluate(evaluator)\n",
    "val dfScore = dfScoreAndEvaluate._1//.withColumnRenamed(\"population-profit_3-stagesApplied_Prediction_000000000011\",\"predicted_profit\")\n",
    "val dfEvaluate = dfScoreAndEvaluate._2\n",
    "println(\"Evaluate:\\n\" + dfEvaluate.toString())\n",
    "\n",
    "dfScore.show(false)"
   ]
  },
  {
   "cell_type": "code",
   "execution_count": null,
   "metadata": {},
   "outputs": [],
   "source": []
  }
 ],
 "metadata": {
  "kernelspec": {
   "display_name": "Scala",
   "language": "scala",
   "name": "scala"
  },
  "language_info": {
   "codemirror_mode": "text/x-scala",
   "file_extension": ".scala",
   "mimetype": "",
   "name": "Scala",
   "nbconverter_exporter": "",
   "version": "2.11.12"
  },
  "toc": {
   "base_numbering": 1,
   "nav_menu": {},
   "number_sections": true,
   "sideBar": true,
   "skip_h1_title": false,
   "title_cell": "Table of Contents",
   "title_sidebar": "Contents",
   "toc_cell": false,
   "toc_position": {
    "height": "308px",
    "left": "1253.66px",
    "top": "122px",
    "width": "212px"
   },
   "toc_section_display": true,
   "toc_window_display": true
  }
 },
 "nbformat": 4,
 "nbformat_minor": 2
}
