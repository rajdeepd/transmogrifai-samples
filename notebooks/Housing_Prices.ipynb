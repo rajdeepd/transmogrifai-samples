{
 "cells": [
  {
   "cell_type": "code",
   "execution_count": 1,
   "metadata": {},
   "outputs": [
    {
     "data": {
      "application/vnd.jupyter.widget-view+json": {
       "model_id": "",
       "version_major": 2,
       "version_minor": 0
      },
      "method": "display_data"
     },
     "metadata": {},
     "output_type": "display_data"
    },
    {
     "data": {
      "application/vnd.jupyter.widget-view+json": {
       "model_id": "b2e9c906-9be8-4696-a51a-20ef69f3df1f",
       "version_major": 2,
       "version_minor": 0
      },
      "method": "display_data"
     },
     "metadata": {},
     "output_type": "display_data"
    }
   ],
   "source": [
    "%classpath add mvn com.salesforce.transmogrifai transmogrifai-core_2.11 0.5.1"
   ]
  },
  {
   "cell_type": "code",
   "execution_count": 2,
   "metadata": {},
   "outputs": [
    {
     "data": {
      "application/vnd.jupyter.widget-view+json": {
       "model_id": "",
       "version_major": 2,
       "version_minor": 0
      },
      "method": "display_data"
     },
     "metadata": {},
     "output_type": "display_data"
    },
    {
     "data": {
      "application/vnd.jupyter.widget-view+json": {
       "model_id": "27a724d3-2dcf-43a8-9c65-33c4d6cd2ff9",
       "version_major": 2,
       "version_minor": 0
      },
      "method": "display_data"
     },
     "metadata": {},
     "output_type": "display_data"
    }
   ],
   "source": [
    "%classpath add mvn org.apache.spark spark-mllib_2.11 2.3.0"
   ]
  },
  {
   "cell_type": "code",
   "execution_count": 3,
   "metadata": {},
   "outputs": [
    {
     "data": {
      "text/plain": [
       "import org.apache.spark.SparkConf\n",
       "import org.apache.spark.sql.SparkSession\n",
       "import org.apache.spark.SparkContext\n",
       "import org.apache.spark.sql.functions.udf\n",
       "import com.salesforce.op._\n",
       "import com.salesforce.op.features._\n",
       "import com.salesforce.op.features.types._\n",
       "import com.salesforce.op.evaluators.Evaluators\n"
      ]
     },
     "execution_count": 3,
     "metadata": {},
     "output_type": "execute_result"
    }
   ],
   "source": [
    "import org.apache.spark.SparkConf\n",
    "import org.apache.spark.sql.SparkSession\n",
    "import org.apache.spark.SparkContext\n",
    "import org.apache.spark.sql.functions.udf\n",
    "\n",
    "import com.salesforce.op._\n",
    "import com.salesforce.op.features._\n",
    "import com.salesforce.op.features.types._\n",
    "import com.salesforce.op.evaluators.Evaluators"
   ]
  },
  {
   "cell_type": "code",
   "execution_count": 4,
   "metadata": {},
   "outputs": [
    {
     "data": {
      "text/plain": [
       "import com.salesforce.op.OpWorkflow\n",
       "import com.salesforce.op.evaluators.Evaluators\n",
       "import com.salesforce.op.readers.DataReaders\n"
      ]
     },
     "execution_count": 4,
     "metadata": {},
     "output_type": "execute_result"
    }
   ],
   "source": [
    "import com.salesforce.op.OpWorkflow\n",
    "import com.salesforce.op.evaluators.Evaluators\n",
    "import com.salesforce.op.readers.DataReaders"
   ]
  },
  {
   "cell_type": "code",
   "execution_count": 5,
   "metadata": {},
   "outputs": [
    {
     "data": {
      "text/plain": [
       "org.apache.spark.sql.SparkSession@3679a998"
      ]
     },
     "execution_count": 5,
     "metadata": {},
     "output_type": "execute_result"
    }
   ],
   "source": [
    "val conf = new SparkConf().setMaster(\"local[*]\").setAppName(\"HousingPricesPrediction\")\n",
    "implicit val spark = SparkSession.builder.config(conf).getOrCreate()"
   ]
  },
  {
   "cell_type": "code",
   "execution_count": 6,
   "metadata": {},
   "outputs": [
    {
     "data": {
      "text/plain": [
       "defined class HousingPrices\n"
      ]
     },
     "execution_count": 6,
     "metadata": {},
     "output_type": "execute_result"
    }
   ],
   "source": [
    "case class HousingPrices(\n",
    "  lotFrontage: Double,\n",
    "  area: Integer,\n",
    "  lotShape: String,\n",
    "  yrSold : Integer,\n",
    "  saleType: String,\n",
    "  saleCondition: String,\n",
    "  salePrice: Double)"
   ]
  },
  {
   "cell_type": "code",
   "execution_count": 8,
   "metadata": {},
   "outputs": [
    {
     "data": {
      "application/vnd.jupyter.widget-view+json": {
       "model_id": "1b5f8dc8-01c7-4d12-9b3d-75116de12649",
       "version_major": 2,
       "version_minor": 0
      },
      "method": "display_data"
     },
     "metadata": {},
     "output_type": "display_data"
    }
   ],
   "source": [
    "import org.apache.spark.sql.{Encoders}\n",
    "implicit val srEncoder = Encoders.product[HousingPrices]\n",
    "val saleTypeEncoder = Map(\"COD\" -> 1, \"CWD\" -> 2, \"Con\" -> 3, \"ConLD\" -> 4,\n",
    "      \"ConLI\" -> 5, \"ConLw\" -> 6,\"New\" -> 7, \"Oth\" -> 8,\"WD\" -> 9  )\n"
   ]
  },
  {
   "cell_type": "code",
   "execution_count": 9,
   "metadata": {},
   "outputs": [
    {
     "data": {
      "text/plain": [
       "Feature(name = area, uid = Integral_000000000002, isResponse = false, originStage = FeatureGeneratorStage_000000000002, parents = [], distributions = [])"
      ]
     },
     "execution_count": 9,
     "metadata": {},
     "output_type": "execute_result"
    }
   ],
   "source": [
    "val lotFrontage = FeatureBuilder.Real[HousingPrices].extract(_.lotFrontage.toReal).asPredictor\n",
    "val area = FeatureBuilder.Integral[HousingPrices].extract(_.area.toIntegral).asPredictor"
   ]
  },
  {
   "cell_type": "code",
   "execution_count": 10,
   "metadata": {},
   "outputs": [
    {
     "data": {
      "text/plain": [
       "Feature(name = lotShape, uid = Integral_000000000003, isResponse = false, originStage = FeatureGeneratorStage_000000000003, parents = [], distributions = [])"
      ]
     },
     "execution_count": 10,
     "metadata": {},
     "output_type": "execute_result"
    }
   ],
   "source": [
    "val lotShape = FeatureBuilder.Integral[HousingPrices].extract(x =>\n",
    "    {\n",
    "      var y = 0\n",
    "      if(x.lotShape.equals(\"IR1\")){\n",
    "        y = 1\n",
    "      }else{\n",
    "        y = 0\n",
    "      }\n",
    "      y.toIntegral\n",
    "    }).asPredictor"
   ]
  },
  {
   "cell_type": "code",
   "execution_count": 11,
   "metadata": {},
   "outputs": [
    {
     "data": {
      "text/plain": [
       "Feature(name = yrSold, uid = Integral_000000000004, isResponse = false, originStage = FeatureGeneratorStage_000000000004, parents = [], distributions = [])"
      ]
     },
     "execution_count": 11,
     "metadata": {},
     "output_type": "execute_result"
    }
   ],
   "source": [
    "val yrSold = FeatureBuilder.Integral[HousingPrices].extract(x =>\n",
    "      {\n",
    "        var y =  2019 - x.yrSold\n",
    "        y.toIntegral\n",
    "      }\n",
    "    ).asPredictor"
   ]
  },
  {
   "cell_type": "code",
   "execution_count": 12,
   "metadata": {},
   "outputs": [
    {
     "data": {
      "text/plain": [
       "Feature(name = saleType, uid = Integral_000000000005, isResponse = false, originStage = FeatureGeneratorStage_000000000005, parents = [], distributions = [])"
      ]
     },
     "execution_count": 12,
     "metadata": {},
     "output_type": "execute_result"
    }
   ],
   "source": [
    " val saleType = FeatureBuilder.Integral[HousingPrices].extract(x =>\n",
    "      {\n",
    "        val y = x.saleType\n",
    "        val z = saleTypeEncoder.get(y)\n",
    "        z.toIntegral\n",
    "      }\n",
    "    ).asPredictor"
   ]
  },
  {
   "cell_type": "code",
   "execution_count": 13,
   "metadata": {},
   "outputs": [
    {
     "data": {
      "application/vnd.jupyter.widget-view+json": {
       "model_id": "87e259f8-5a24-4271-ad7f-b580b85a6bf4",
       "version_major": 2,
       "version_minor": 0
      },
      "method": "display_data"
     },
     "metadata": {},
     "output_type": "display_data"
    }
   ],
   "source": [
    "val saleConditionEncoder = Map(\"Abnorml\" -> 1, \"AdjLand\" -> 2, \"Alloca\" -> 3, \"Family\" -> 4,\n",
    "      \"Normal\" -> 5, \"Partial\" -> 6 )"
   ]
  },
  {
   "cell_type": "code",
   "execution_count": 14,
   "metadata": {},
   "outputs": [
    {
     "data": {
      "text/plain": [
       "Feature(name = saleCondition, uid = Integral_000000000006, isResponse = false, originStage = FeatureGeneratorStage_000000000006, parents = [], distributions = [])"
      ]
     },
     "execution_count": 14,
     "metadata": {},
     "output_type": "execute_result"
    }
   ],
   "source": [
    "val saleCondition = FeatureBuilder.Integral[HousingPrices].extract(x =>\n",
    "    {\n",
    "      val y = x.saleCondition\n",
    "      val z = saleConditionEncoder.get(y)\n",
    "      z.toIntegral\n",
    "    }\n",
    "    ).asPredictor"
   ]
  },
  {
   "cell_type": "code",
   "execution_count": 15,
   "metadata": {},
   "outputs": [
    {
     "data": {
      "text/plain": [
       "Feature(name = salePrice, uid = RealNN_000000000007, isResponse = true, originStage = FeatureGeneratorStage_000000000007, parents = [], distributions = [])"
      ]
     },
     "execution_count": 15,
     "metadata": {},
     "output_type": "execute_result"
    }
   ],
   "source": [
    "val salePrice = FeatureBuilder.RealNN[HousingPrices].extract(_.salePrice.toRealNN).asResponse"
   ]
  },
  {
   "cell_type": "code",
   "execution_count": 16,
   "metadata": {},
   "outputs": [
    {
     "data": {
      "text/plain": [
       "../src/main/resources/HousingPricesDataset/train_lf_la_ls_ys_st_sc.csv"
      ]
     },
     "execution_count": 16,
     "metadata": {},
     "output_type": "execute_result"
    }
   ],
   "source": [
    " val trainFilePath = \"../src/main/resources/HousingPricesDataset/train_lf_la_ls_ys_st_sc.csv\""
   ]
  },
  {
   "cell_type": "code",
   "execution_count": 17,
   "metadata": {},
   "outputs": [
    {
     "data": {
      "text/plain": [
       "com.salesforce.op.readers.CSVProductReader@488e50ef"
      ]
     },
     "execution_count": 17,
     "metadata": {},
     "output_type": "execute_result"
    }
   ],
   "source": [
    "val trainDataReader = DataReaders.Simple.csvCase[HousingPrices](\n",
    "      path = Option(trainFilePath)\n",
    "    )"
   ]
  },
  {
   "cell_type": "code",
   "execution_count": 19,
   "metadata": {},
   "outputs": [
    {
     "data": {
      "text/plain": [
       "DataSplitter_00000000000b"
      ]
     },
     "execution_count": 19,
     "metadata": {},
     "output_type": "execute_result"
    }
   ],
   "source": [
    "import com.salesforce.op.stages.impl.tuning.{DataCutter, DataSplitter}\n",
    "val features = Seq(lotFrontage,area,lotShape, yrSold, saleType, saleCondition).transmogrify()\n",
    "val randomSeed = 42L\n",
    "val splitter = DataSplitter(seed = randomSeed)"
   ]
  },
  {
   "cell_type": "code",
   "execution_count": 21,
   "metadata": {},
   "outputs": [
    {
     "data": {
      "text/plain": [
       "Feature(name = area-lotFrontage-lotShape-saleCondition-salePrice-saleType-yrSold_4-stagesApplied_Prediction_000000000014, uid = Prediction_000000000014, isResponse = true, originStage = ModelSelector_000000000014, parents = [RealNN_000000000007,OPVector_00000000000a], distributions = [])"
      ]
     },
     "execution_count": 21,
     "metadata": {},
     "output_type": "execute_result"
    }
   ],
   "source": [
    "import com.salesforce.op.stages.impl.regression.RegressionModelSelector\n",
    "import com.salesforce.op.stages.impl.regression.RegressionModelsToTry.{OpGBTRegressor, OpRandomForestRegressor}\n",
    "\n",
    "val prediction1 = RegressionModelSelector\n",
    "      .withCrossValidation(\n",
    "        dataSplitter = Some(splitter), seed = randomSeed,\n",
    "        modelTypesToUse = Seq(OpGBTRegressor, OpRandomForestRegressor)\n",
    "      ).setInput(salePrice,features).getOutput()"
   ]
  },
  {
   "cell_type": "code",
   "execution_count": 22,
   "metadata": {},
   "outputs": [
    {
     "data": {
      "text/plain": [
       "OpRegressionEvaluator_000000000015"
      ]
     },
     "execution_count": 22,
     "metadata": {},
     "output_type": "execute_result"
    }
   ],
   "source": [
    "val evaluator = Evaluators.Regression().setLabelCol(salePrice).setPredictionCol(prediction1)"
   ]
  },
  {
   "cell_type": "code",
   "execution_count": 23,
   "metadata": {},
   "outputs": [
    {
     "data": {
      "text/plain": [
       "com.salesforce.op.OpWorkflowModel@2830e00b"
      ]
     },
     "execution_count": 23,
     "metadata": {},
     "output_type": "execute_result"
    }
   ],
   "source": [
    "val workflow = new OpWorkflow().setResultFeatures(prediction1, salePrice).setReader(trainDataReader)\n",
    "val workflowModel = workflow.train()"
   ]
  },
  {
   "cell_type": "code",
   "execution_count": 25,
   "metadata": {},
   "outputs": [
    {
     "name": "stdout",
     "output_type": "stream",
     "text": [
      "+--------------------+---------+---------------------------------------------------------------------------------------------------------+\n",
      "|key                 |salePrice|area-lotFrontage-lotShape-saleCondition-salePrice-saleType-yrSold_4-stagesApplied_Prediction_000000000014|\n",
      "+--------------------+---------+---------------------------------------------------------------------------------------------------------+\n",
      "|182800717145872802  |208500.0 |[prediction -> 162938.1206683031]                                                                        |\n",
      "|-1260032861651078847|181500.0 |[prediction -> 178249.78987439617]                                                                       |\n",
      "|-368029859182554265 |223500.0 |[prediction -> 202723.0848026669]                                                                        |\n",
      "|-8311040069960624803|140000.0 |[prediction -> 152425.85265489892]                                                                       |\n",
      "|-7894344379705295783|250000.0 |[prediction -> 235297.43426689907]                                                                       |\n",
      "|-2978100947406689892|143000.0 |[prediction -> 244831.55807096974]                                                                       |\n",
      "|2136587408524889836 |307000.0 |[prediction -> 181657.19135977727]                                                                       |\n",
      "|6581321932280493628 |129900.0 |[prediction -> 125486.47935724858]                                                                       |\n",
      "|-8922019228545309252|118000.0 |[prediction -> 140364.39533054514]                                                                       |\n",
      "|-6287628419307769427|129500.0 |[prediction -> 163623.17961648575]                                                                       |\n",
      "|641768707495440300  |345000.0 |[prediction -> 283715.98078947415]                                                                       |\n",
      "|2701342170529106770 |279500.0 |[prediction -> 260520.4802478485]                                                                        |\n",
      "|-4049754349159136686|132000.0 |[prediction -> 135437.65810729918]                                                                       |\n",
      "|6512152722798288520 |90000.0  |[prediction -> 161814.5696263957]                                                                        |\n",
      "|-5774610367132733806|159000.0 |[prediction -> 183068.77284093515]                                                                       |\n",
      "|-9008687541541039642|139000.0 |[prediction -> 148196.78034270776]                                                                       |\n",
      "|6391855740586310536 |325300.0 |[prediction -> 306308.47839216405]                                                                       |\n",
      "|8970766001508050630 |139400.0 |[prediction -> 144712.3234156568]                                                                        |\n",
      "|8513514741562157995 |230000.0 |[prediction -> 177190.67769071358]                                                                       |\n",
      "|-470839188261061372 |129900.0 |[prediction -> 146946.41940707425]                                                                       |\n",
      "+--------------------+---------+---------------------------------------------------------------------------------------------------------+\n",
      "only showing top 20 rows\n",
      "\n"
     ]
    },
    {
     "data": {
      "text/plain": [
       "null"
      ]
     },
     "execution_count": 25,
     "metadata": {},
     "output_type": "execute_result"
    }
   ],
   "source": [
    "val dfScoreAndEvaluate = workflowModel.scoreAndEvaluate(evaluator)\n",
    "dfScoreAndEvaluate._1.show(false)"
   ]
  },
  {
   "cell_type": "code",
   "execution_count": 26,
   "metadata": {},
   "outputs": [
    {
     "data": {
      "text/plain": [
       "{\n",
       "  \"RootMeanSquaredError\" : 61714.05980771341,\n",
       "  \"MeanSquaredError\" : 3.8086251779500284E9,\n",
       "  \"R2\" : 0.45184036907553027,\n",
       "  \"MeanAbsoluteError\" : 43901.85329539395\n",
       "}"
      ]
     },
     "execution_count": 26,
     "metadata": {},
     "output_type": "execute_result"
    }
   ],
   "source": [
    "val dfEvaluate = dfScoreAndEvaluate._2\n",
    "dfEvaluate.toString()"
   ]
  },
  {
   "cell_type": "code",
   "execution_count": null,
   "metadata": {},
   "outputs": [],
   "source": []
  }
 ],
 "metadata": {
  "kernelspec": {
   "display_name": "Scala",
   "language": "scala",
   "name": "scala"
  },
  "language_info": {
   "codemirror_mode": "text/x-scala",
   "file_extension": ".scala",
   "mimetype": "",
   "name": "Scala",
   "nbconverter_exporter": "",
   "version": "2.11.12"
  }
 },
 "nbformat": 4,
 "nbformat_minor": 2
}
