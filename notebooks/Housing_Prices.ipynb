{
 "cells": [
  {
   "cell_type": "code",
   "execution_count": 1,
   "metadata": {},
   "outputs": [
    {
     "data": {
      "application/vnd.jupyter.widget-view+json": {
       "model_id": "",
       "version_major": 2,
       "version_minor": 0
      },
      "method": "display_data"
     },
     "metadata": {},
     "output_type": "display_data"
    },
    {
     "data": {
      "application/vnd.jupyter.widget-view+json": {
       "model_id": "decd7f23-f26c-4425-ba2c-72b938451955",
       "version_major": 2,
       "version_minor": 0
      },
      "method": "display_data"
     },
     "metadata": {},
     "output_type": "display_data"
    }
   ],
   "source": [
    "%classpath add mvn com.salesforce.transmogrifai transmogrifai-core_2.11 0.6.0"
   ]
  },
  {
   "cell_type": "code",
   "execution_count": 2,
   "metadata": {},
   "outputs": [
    {
     "data": {
      "application/vnd.jupyter.widget-view+json": {
       "model_id": "",
       "version_major": 2,
       "version_minor": 0
      },
      "method": "display_data"
     },
     "metadata": {},
     "output_type": "display_data"
    },
    {
     "data": {
      "application/vnd.jupyter.widget-view+json": {
       "model_id": "6f83b6d0-add1-4de6-a7ca-86a26109d508",
       "version_major": 2,
       "version_minor": 0
      },
      "method": "display_data"
     },
     "metadata": {},
     "output_type": "display_data"
    }
   ],
   "source": [
    "%classpath add mvn org.apache.spark spark-mllib_2.11 2.3.0"
   ]
  },
  {
   "cell_type": "code",
   "execution_count": 3,
   "metadata": {},
   "outputs": [
    {
     "data": {
      "text/plain": [
       "DataSplitter_000000000001"
      ]
     },
     "execution_count": 3,
     "metadata": {},
     "output_type": "execute_result"
    }
   ],
   "source": [
    "import com.salesforce.op.stages.impl.tuning.{DataCutter, DataSplitter}\n",
    "val randomSeed = 42L\n",
    "val splitter = DataSplitter(seed = randomSeed)"
   ]
  },
  {
   "cell_type": "code",
   "execution_count": 4,
   "metadata": {},
   "outputs": [
    {
     "data": {
      "text/plain": [
       "import org.apache.spark.SparkConf\n",
       "import org.apache.spark.sql.SparkSession\n",
       "import org.apache.spark.SparkContext\n",
       "import org.apache.spark.sql.functions.udf\n",
       "import com.salesforce.op._\n",
       "import com.salesforce.op.features._\n",
       "import com.salesforce.op.features.types._\n",
       "import com.salesforce.op.evaluators.Evaluators\n"
      ]
     },
     "execution_count": 4,
     "metadata": {},
     "output_type": "execute_result"
    }
   ],
   "source": [
    "import org.apache.spark.SparkConf\n",
    "import org.apache.spark.sql.SparkSession\n",
    "import org.apache.spark.SparkContext\n",
    "import org.apache.spark.sql.functions.udf\n",
    "\n",
    "import com.salesforce.op._\n",
    "import com.salesforce.op.features._\n",
    "import com.salesforce.op.features.types._\n",
    "import com.salesforce.op.evaluators.Evaluators"
   ]
  },
  {
   "cell_type": "code",
   "execution_count": 5,
   "metadata": {},
   "outputs": [
    {
     "data": {
      "text/plain": [
       "import com.salesforce.op.OpWorkflow\n",
       "import com.salesforce.op.evaluators.Evaluators\n",
       "import com.salesforce.op.readers.DataReaders\n"
      ]
     },
     "execution_count": 5,
     "metadata": {},
     "output_type": "execute_result"
    }
   ],
   "source": [
    "import com.salesforce.op.OpWorkflow\n",
    "import com.salesforce.op.evaluators.Evaluators\n",
    "import com.salesforce.op.readers.DataReaders"
   ]
  },
  {
   "cell_type": "code",
   "execution_count": null,
   "metadata": {},
   "outputs": [],
   "source": []
  },
  {
   "cell_type": "code",
   "execution_count": 6,
   "metadata": {},
   "outputs": [
    {
     "data": {
      "text/plain": [
       "org.apache.spark.sql.SparkSession@6000a66"
      ]
     },
     "execution_count": 6,
     "metadata": {},
     "output_type": "execute_result"
    }
   ],
   "source": [
    "val conf = new SparkConf().setMaster(\"local[*]\").setAppName(\"HousingPricesPrediction\")\n",
    "implicit val spark = SparkSession.builder.config(conf).getOrCreate()"
   ]
  },
  {
   "cell_type": "code",
   "execution_count": 7,
   "metadata": {},
   "outputs": [
    {
     "data": {
      "text/plain": [
       "defined class HousingPrices\n"
      ]
     },
     "execution_count": 7,
     "metadata": {},
     "output_type": "execute_result"
    }
   ],
   "source": [
    "case class HousingPrices(\n",
    "  lotFrontage: Double,\n",
    "  area: Integer,\n",
    "  lotShape: String,\n",
    "  yrSold : Integer,\n",
    "  saleType: String,\n",
    "  saleCondition: String,\n",
    "  salePrice: Double)"
   ]
  },
  {
   "cell_type": "code",
   "execution_count": 8,
   "metadata": {},
   "outputs": [
    {
     "data": {
      "application/vnd.jupyter.widget-view+json": {
       "model_id": "49913d6b-a8d5-4a3f-9afc-85127f954f5d",
       "version_major": 2,
       "version_minor": 0
      },
      "method": "display_data"
     },
     "metadata": {},
     "output_type": "display_data"
    }
   ],
   "source": [
    "import org.apache.spark.sql.{Encoders}\n",
    "implicit val srEncoder = Encoders.product[HousingPrices]\n",
    "val saleTypeEncoder = Map(\"COD\" -> 1, \"CWD\" -> 2, \"Con\" -> 3, \"ConLD\" -> 4,\n",
    "      \"ConLI\" -> 5, \"ConLw\" -> 6,\"New\" -> 7, \"Oth\" -> 8,\"WD\" -> 9  )\n"
   ]
  },
  {
   "cell_type": "code",
   "execution_count": 9,
   "metadata": {},
   "outputs": [
    {
     "data": {
      "text/plain": [
       "Feature(name = area, uid = Integral_000000000003, isResponse = false, originStage = FeatureGeneratorStage_000000000003, parents = [], distributions = [])"
      ]
     },
     "execution_count": 9,
     "metadata": {},
     "output_type": "execute_result"
    }
   ],
   "source": [
    "val lotFrontage = FeatureBuilder.Real[HousingPrices].extract(_.lotFrontage.toReal).asPredictor\n",
    "val area = FeatureBuilder.Integral[HousingPrices].extract(_.area.toIntegral).asPredictor"
   ]
  },
  {
   "cell_type": "code",
   "execution_count": 10,
   "metadata": {},
   "outputs": [
    {
     "data": {
      "text/plain": [
       "Feature(name = lotShape, uid = Integral_000000000004, isResponse = false, originStage = FeatureGeneratorStage_000000000004, parents = [], distributions = [])"
      ]
     },
     "execution_count": 10,
     "metadata": {},
     "output_type": "execute_result"
    }
   ],
   "source": [
    "val lotShape = FeatureBuilder.Integral[HousingPrices].extract(x =>\n",
    "    {\n",
    "      var y = 0\n",
    "      if(x.lotShape.equals(\"IR1\")){\n",
    "        y = 1\n",
    "      }else{\n",
    "        y = 0\n",
    "      }\n",
    "      y.toIntegral\n",
    "    }).asPredictor"
   ]
  },
  {
   "cell_type": "code",
   "execution_count": 11,
   "metadata": {},
   "outputs": [
    {
     "data": {
      "text/plain": [
       "Feature(name = yrSold, uid = Integral_000000000005, isResponse = false, originStage = FeatureGeneratorStage_000000000005, parents = [], distributions = [])"
      ]
     },
     "execution_count": 11,
     "metadata": {},
     "output_type": "execute_result"
    }
   ],
   "source": [
    "val yrSold = FeatureBuilder.Integral[HousingPrices].extract(x =>\n",
    "      {\n",
    "        var y =  2019 - x.yrSold\n",
    "        y.toIntegral\n",
    "      }\n",
    "    ).asPredictor"
   ]
  },
  {
   "cell_type": "code",
   "execution_count": 12,
   "metadata": {},
   "outputs": [
    {
     "data": {
      "text/plain": [
       "Feature(name = saleType, uid = Integral_000000000006, isResponse = false, originStage = FeatureGeneratorStage_000000000006, parents = [], distributions = [])"
      ]
     },
     "execution_count": 12,
     "metadata": {},
     "output_type": "execute_result"
    }
   ],
   "source": [
    " val saleType = FeatureBuilder.Integral[HousingPrices].extract(x =>\n",
    "      {\n",
    "        val y = x.saleType\n",
    "        val z = saleTypeEncoder.get(y)\n",
    "        z.toIntegral\n",
    "      }\n",
    "    ).asPredictor"
   ]
  },
  {
   "cell_type": "code",
   "execution_count": 13,
   "metadata": {},
   "outputs": [
    {
     "data": {
      "application/vnd.jupyter.widget-view+json": {
       "model_id": "07005332-f527-4bd0-b219-e98233ebb87d",
       "version_major": 2,
       "version_minor": 0
      },
      "method": "display_data"
     },
     "metadata": {},
     "output_type": "display_data"
    }
   ],
   "source": [
    "val saleConditionEncoder = Map(\"Abnorml\" -> 1, \"AdjLand\" -> 2, \"Alloca\" -> 3, \"Family\" -> 4,\n",
    "      \"Normal\" -> 5, \"Partial\" -> 6 )"
   ]
  },
  {
   "cell_type": "code",
   "execution_count": 14,
   "metadata": {},
   "outputs": [
    {
     "data": {
      "text/plain": [
       "Feature(name = saleCondition, uid = Integral_000000000007, isResponse = false, originStage = FeatureGeneratorStage_000000000007, parents = [], distributions = [])"
      ]
     },
     "execution_count": 14,
     "metadata": {},
     "output_type": "execute_result"
    }
   ],
   "source": [
    "val saleCondition = FeatureBuilder.Integral[HousingPrices].extract(x =>\n",
    "    {\n",
    "      val y = x.saleCondition\n",
    "      val z = saleConditionEncoder.get(y)\n",
    "      z.toIntegral\n",
    "    }\n",
    "    ).asPredictor"
   ]
  },
  {
   "cell_type": "code",
   "execution_count": 15,
   "metadata": {},
   "outputs": [
    {
     "data": {
      "text/plain": [
       "Feature(name = salePrice, uid = RealNN_000000000008, isResponse = true, originStage = FeatureGeneratorStage_000000000008, parents = [], distributions = [])"
      ]
     },
     "execution_count": 15,
     "metadata": {},
     "output_type": "execute_result"
    }
   ],
   "source": [
    "val salePrice = FeatureBuilder.RealNN[HousingPrices].extract(_.salePrice.toRealNN).asResponse"
   ]
  },
  {
   "cell_type": "code",
   "execution_count": 16,
   "metadata": {},
   "outputs": [
    {
     "data": {
      "text/plain": [
       "../src/main/resources/HousingPricesDataset/train_lf_la_ls_ys_st_sc.csv"
      ]
     },
     "execution_count": 16,
     "metadata": {},
     "output_type": "execute_result"
    }
   ],
   "source": [
    " val trainFilePath = \"../src/main/resources/HousingPricesDataset/train_lf_la_ls_ys_st_sc.csv\""
   ]
  },
  {
   "cell_type": "code",
   "execution_count": 17,
   "metadata": {},
   "outputs": [
    {
     "data": {
      "text/plain": [
       "com.salesforce.op.readers.CSVProductReader@73ef8ad3"
      ]
     },
     "execution_count": 17,
     "metadata": {},
     "output_type": "execute_result"
    }
   ],
   "source": [
    "val trainDataReader = DataReaders.Simple.csvCase[HousingPrices](\n",
    "      path = Option(trainFilePath)\n",
    "    )"
   ]
  },
  {
   "cell_type": "code",
   "execution_count": 18,
   "metadata": {},
   "outputs": [
    {
     "data": {
      "text/plain": [
       "Feature(name = area-lotFrontage-lotShape-saleCondition-saleType-yrSold_3-stagesApplied_OPVector_00000000000b, uid = OPVector_00000000000b, isResponse = false, originStage = VectorsCombiner_00000000000b, parents = [OPVector_000000000009,OPVector_00000000000a], distributions = [])"
      ]
     },
     "execution_count": 18,
     "metadata": {},
     "output_type": "execute_result"
    }
   ],
   "source": [
    "\n",
    "val features = Seq(lotFrontage,area,lotShape, yrSold, saleType, saleCondition).transmogrify()\n"
   ]
  },
  {
   "cell_type": "code",
   "execution_count": 19,
   "metadata": {},
   "outputs": [
    {
     "data": {
      "text/plain": [
       "Feature(name = area-lotFrontage-lotShape-saleCondition-salePrice-saleType-yrSold_4-stagesApplied_Prediction_000000000014, uid = Prediction_000000000014, isResponse = true, originStage = ModelSelector_000000000014, parents = [RealNN_000000000008,OPVector_00000000000b], distributions = [])"
      ]
     },
     "execution_count": 19,
     "metadata": {},
     "output_type": "execute_result"
    }
   ],
   "source": [
    "import com.salesforce.op.stages.impl.regression.RegressionModelSelector\n",
    "import com.salesforce.op.stages.impl.regression.RegressionModelsToTry.{OpGBTRegressor, OpRandomForestRegressor}\n",
    "\n",
    "val prediction1 = RegressionModelSelector\n",
    "      .withCrossValidation(\n",
    "        dataSplitter = Some(splitter), seed = randomSeed,\n",
    "        modelTypesToUse = Seq(OpGBTRegressor, OpRandomForestRegressor)\n",
    "      ).setInput(salePrice,features).getOutput()"
   ]
  },
  {
   "cell_type": "code",
   "execution_count": 20,
   "metadata": {},
   "outputs": [
    {
     "data": {
      "text/plain": [
       "OpRegressionEvaluator_000000000015"
      ]
     },
     "execution_count": 20,
     "metadata": {},
     "output_type": "execute_result"
    }
   ],
   "source": [
    "val evaluator = Evaluators.Regression().setLabelCol(salePrice).setPredictionCol(prediction1)"
   ]
  },
  {
   "cell_type": "code",
   "execution_count": 21,
   "metadata": {},
   "outputs": [
    {
     "data": {
      "text/plain": [
       "com.salesforce.op.OpWorkflowModel@3fd26cda"
      ]
     },
     "execution_count": 21,
     "metadata": {},
     "output_type": "execute_result"
    }
   ],
   "source": [
    "val workflow = new OpWorkflow().setResultFeatures(prediction1, salePrice).setReader(trainDataReader)\n",
    "val workflowModel = workflow.train()"
   ]
  },
  {
   "cell_type": "code",
   "execution_count": 22,
   "metadata": {},
   "outputs": [
    {
     "name": "stdout",
     "output_type": "stream",
     "text": [
      "+--------------------+---------+---------------------------------------------------------------------------------------------------------+\n",
      "|key                 |salePrice|area-lotFrontage-lotShape-saleCondition-salePrice-saleType-yrSold_4-stagesApplied_Prediction_000000000014|\n",
      "+--------------------+---------+---------------------------------------------------------------------------------------------------------+\n",
      "|-2868089599595837031|208500.0 |[prediction -> 159131.95471439604]                                                                       |\n",
      "|-1768841142369678207|181500.0 |[prediction -> 177308.09160963717]                                                                       |\n",
      "|8721631942530794604 |223500.0 |[prediction -> 197706.51802085803]                                                                       |\n",
      "|-2847076841386576365|140000.0 |[prediction -> 152007.29718589777]                                                                       |\n",
      "|-2504313052536208618|250000.0 |[prediction -> 229511.81282601057]                                                                       |\n",
      "|2543036013395486588 |143000.0 |[prediction -> 239322.68639171534]                                                                       |\n",
      "|9089878163156957621 |307000.0 |[prediction -> 180331.545119968]                                                                         |\n",
      "|-4664397897266889852|129900.0 |[prediction -> 124697.14433986558]                                                                       |\n",
      "|649792945073288315  |118000.0 |[prediction -> 143340.66737183585]                                                                       |\n",
      "|4249507213683647216 |129500.0 |[prediction -> 168276.36978035525]                                                                       |\n",
      "|5548239961753902736 |345000.0 |[prediction -> 266904.2554160311]                                                                        |\n",
      "|9183399331062636548 |279500.0 |[prediction -> 249656.39348268008]                                                                       |\n",
      "|7865335108979184439 |132000.0 |[prediction -> 137417.18002382127]                                                                       |\n",
      "|4105893675943573064 |90000.0  |[prediction -> 176848.5201533807]                                                                        |\n",
      "|5654768351302933807 |159000.0 |[prediction -> 189561.3027992958]                                                                        |\n",
      "|-1908505264825445745|139000.0 |[prediction -> 142931.84893692995]                                                                       |\n",
      "|7510620082963302491 |325300.0 |[prediction -> 304008.7597698948]                                                                        |\n",
      "|735577652546023220  |139400.0 |[prediction -> 146196.22163404082]                                                                       |\n",
      "|-3841206139898009180|230000.0 |[prediction -> 183230.9238832522]                                                                        |\n",
      "|3272470693142214822 |129900.0 |[prediction -> 151977.65382984624]                                                                       |\n",
      "+--------------------+---------+---------------------------------------------------------------------------------------------------------+\n",
      "only showing top 20 rows\n",
      "\n"
     ]
    },
    {
     "data": {
      "text/plain": [
       "null"
      ]
     },
     "execution_count": 22,
     "metadata": {},
     "output_type": "execute_result"
    }
   ],
   "source": [
    "val dfScoreAndEvaluate = workflowModel.scoreAndEvaluate(evaluator)\n",
    "dfScoreAndEvaluate._1.show(false)"
   ]
  },
  {
   "cell_type": "code",
   "execution_count": 23,
   "metadata": {},
   "outputs": [
    {
     "data": {
      "text/plain": [
       "{\n",
       "  \"RootMeanSquaredError\" : 62268.74502400672,\n",
       "  \"MeanSquaredError\" : 3.8773966068647614E9,\n",
       "  \"R2\" : 0.4419423824450005,\n",
       "  \"MeanAbsoluteError\" : 44271.455088774994\n",
       "}"
      ]
     },
     "execution_count": 23,
     "metadata": {},
     "output_type": "execute_result"
    }
   ],
   "source": [
    "val dfEvaluate = dfScoreAndEvaluate._2\n",
    "dfEvaluate.toString()"
   ]
  },
  {
   "cell_type": "code",
   "execution_count": null,
   "metadata": {},
   "outputs": [],
   "source": []
  }
 ],
 "metadata": {
  "kernelspec": {
   "display_name": "Scala",
   "language": "scala",
   "name": "scala"
  },
  "language_info": {
   "codemirror_mode": "text/x-scala",
   "file_extension": ".scala",
   "mimetype": "",
   "name": "Scala",
   "nbconverter_exporter": "",
   "version": "2.11.12"
  },
  "toc": {
   "base_numbering": 1,
   "nav_menu": {},
   "number_sections": false,
   "sideBar": false,
   "skip_h1_title": false,
   "title_cell": "Table of Contents",
   "title_sidebar": "Contents",
   "toc_cell": false,
   "toc_position": {},
   "toc_section_display": false,
   "toc_window_display": false
  }
 },
 "nbformat": 4,
 "nbformat_minor": 2
}
