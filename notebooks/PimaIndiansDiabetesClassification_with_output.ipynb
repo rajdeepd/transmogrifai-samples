{
 "cells": [
  {
   "cell_type": "code",
   "execution_count": 34,
   "metadata": {},
   "outputs": [
    {
     "data": {
      "application/vnd.jupyter.widget-view+json": {
       "model_id": "",
       "version_major": 2,
       "version_minor": 0
      },
      "method": "display_data"
     },
     "metadata": {},
     "output_type": "display_data"
    }
   ],
   "source": [
    "%classpath add mvn com.salesforce.transmogrifai transmogrifai-core_2.11 0.6.0"
   ]
  },
  {
   "cell_type": "code",
   "execution_count": 35,
   "metadata": {},
   "outputs": [
    {
     "data": {
      "application/vnd.jupyter.widget-view+json": {
       "model_id": "",
       "version_major": 2,
       "version_minor": 0
      },
      "method": "display_data"
     },
     "metadata": {},
     "output_type": "display_data"
    }
   ],
   "source": [
    "%classpath add mvn org.apache.spark spark-mllib_2.11 2.4.3"
   ]
  },
  {
   "cell_type": "code",
   "execution_count": 36,
   "metadata": {},
   "outputs": [
    {
     "data": {
      "text/plain": [
       "import org.apache.spark.SparkConf\n",
       "import org.apache.spark.sql.SparkSession\n",
       "import org.apache.spark.SparkContext\n",
       "import org.apache.spark.sql.functions.udf\n",
       "import com.salesforce.op._\n",
       "import com.salesforce.op.features._\n",
       "import com.salesforce.op.features.types._\n",
       "import com.salesforce.op.evaluators.Evaluators\n"
      ]
     },
     "execution_count": 36,
     "metadata": {},
     "output_type": "execute_result"
    }
   ],
   "source": [
    "import org.apache.spark.SparkConf\n",
    "import org.apache.spark.sql.SparkSession\n",
    "import org.apache.spark.SparkContext\n",
    "import org.apache.spark.sql.functions.udf\n",
    "\n",
    "import com.salesforce.op._\n",
    "import com.salesforce.op.features._\n",
    "import com.salesforce.op.features.types._\n",
    "import com.salesforce.op.evaluators.Evaluators"
   ]
  },
  {
   "cell_type": "code",
   "execution_count": 37,
   "metadata": {},
   "outputs": [
    {
     "data": {
      "text/plain": [
       "DataSplitter_000000000030"
      ]
     },
     "execution_count": 37,
     "metadata": {},
     "output_type": "execute_result"
    }
   ],
   "source": [
    "import com.salesforce.op.stages.impl.tuning.{DataCutter, DataSplitter}\n",
    "val randomSeed = 42L\n",
    "val splitter = DataSplitter(seed = randomSeed)"
   ]
  },
  {
   "cell_type": "code",
   "execution_count": 38,
   "metadata": {},
   "outputs": [
    {
     "data": {
      "text/plain": [
       "import com.salesforce.op.OpWorkflow\n",
       "import com.salesforce.op.evaluators.Evaluators\n",
       "import com.salesforce.op.readers.DataReaders\n"
      ]
     },
     "execution_count": 38,
     "metadata": {},
     "output_type": "execute_result"
    }
   ],
   "source": [
    "import com.salesforce.op.OpWorkflow\n",
    "import com.salesforce.op.evaluators.Evaluators\n",
    "import com.salesforce.op.readers.DataReaders"
   ]
  },
  {
   "cell_type": "code",
   "execution_count": 39,
   "metadata": {},
   "outputs": [
    {
     "data": {
      "text/plain": [
       "org.apache.spark.sql.SparkSession@4a42f1c"
      ]
     },
     "execution_count": 39,
     "metadata": {},
     "output_type": "execute_result"
    }
   ],
   "source": [
    "val conf = new SparkConf().setMaster(\"local[*]\").setAppName(\"PimaIndiansClassification\")\n",
    "implicit val spark = SparkSession.builder.config(conf).getOrCreate()"
   ]
  },
  {
   "cell_type": "code",
   "execution_count": 40,
   "metadata": {},
   "outputs": [
    {
     "data": {
      "text/plain": [
       "defined class PimaIndians\n"
      ]
     },
     "execution_count": 40,
     "metadata": {},
     "output_type": "execute_result"
    }
   ],
   "source": [
    "case class PimaIndians\n",
    "(\n",
    "  numberOfTimesPreg: Double,\n",
    "  plasmaGlucose: Double,\n",
    "  bp: Double,\n",
    "  spinThickness: Double,\n",
    "  serumInsulin: Double,\n",
    "  bmi: Double,\n",
    "  diabetesPredigree : Double,\n",
    "  ageInYrs : Double,\n",
    "  piClass: String\n",
    ")"
   ]
  },
  {
   "cell_type": "code",
   "execution_count": 41,
   "metadata": {},
   "outputs": [
    {
     "data": {
      "text/plain": [
       "Feature(name = piClass, uid = Text_000000000039, isResponse = true, originStage = FeatureGeneratorStage_000000000039, parents = [], distributions = [])"
      ]
     },
     "execution_count": 41,
     "metadata": {},
     "output_type": "execute_result"
    }
   ],
   "source": [
    "val numberOfTimesPreg = FeatureBuilder.Real[PimaIndians].extract(_.numberOfTimesPreg.toReal).asPredictor\n",
    "val plasmaGlucose = FeatureBuilder.Real[PimaIndians].extract(_.plasmaGlucose.toReal).asPredictor\n",
    "val bp = FeatureBuilder.Real[PimaIndians].extract(_.bp.toReal).asPredictor\n",
    "val spinThickness = FeatureBuilder.Real[PimaIndians].extract(_.spinThickness.toReal).asPredictor\n",
    "val serumInsulin = FeatureBuilder.Real[PimaIndians].extract(_.serumInsulin.toReal).asPredictor\n",
    "val bmi = FeatureBuilder.Real[PimaIndians].extract(_.bmi.toReal).asPredictor\n",
    "val diabetesPredigree = FeatureBuilder.Real[PimaIndians].extract(_.diabetesPredigree.toReal).asPredictor\n",
    "val ageInYrs = FeatureBuilder.Real[PimaIndians].extract(_.diabetesPredigree.toReal).asPredictor\n",
    "val piClass = FeatureBuilder.Text[PimaIndians].extract(_.piClass.toText).asResponse"
   ]
  },
  {
   "cell_type": "code",
   "execution_count": 42,
   "metadata": {},
   "outputs": [
    {
     "data": {
      "text/plain": [
       "../src/main/resources/PimaIndiansDataset/primaindiansdiabetes.data"
      ]
     },
     "execution_count": 42,
     "metadata": {},
     "output_type": "execute_result"
    }
   ],
   "source": [
    " val trainFilePath = \"../src/main/resources/PimaIndiansDataset/primaindiansdiabetes.data\""
   ]
  },
  {
   "cell_type": "code",
   "execution_count": 43,
   "metadata": {},
   "outputs": [
    {
     "data": {
      "text/plain": [
       "import com.salesforce.op.features.FeatureBuilder\n",
       "import com.salesforce.op.features.types._\n"
      ]
     },
     "execution_count": 43,
     "metadata": {},
     "output_type": "execute_result"
    }
   ],
   "source": [
    "import com.salesforce.op.features.FeatureBuilder\n",
    "import com.salesforce.op.features.types._"
   ]
  },
  {
   "cell_type": "code",
   "execution_count": 44,
   "metadata": {},
   "outputs": [
    {
     "data": {
      "text/plain": [
       "org.apache.spark.sql.SparkSession$implicits$@2aa956f"
      ]
     },
     "execution_count": 44,
     "metadata": {},
     "output_type": "execute_result"
    }
   ],
   "source": [
    "import spark.implicits._ \n",
    "val trainDataReader = DataReaders.Simple.csvCase[PimaIndians](\n",
    "      path = Option(trainFilePath)\n",
    "    )"
   ]
  },
  {
   "cell_type": "code",
   "execution_count": 45,
   "metadata": {},
   "outputs": [
    {
     "data": {
      "text/plain": [
       "DataSplitter_00000000003c"
      ]
     },
     "execution_count": 45,
     "metadata": {},
     "output_type": "execute_result"
    }
   ],
   "source": [
    "import com.salesforce.op.stages.impl.tuning.{DataCutter, DataSplitter}\n",
    "\n",
    "val features = Seq( numberOfTimesPreg, plasmaGlucose,bp,spinThickness,serumInsulin,\n",
    "    bmi,diabetesPredigree,ageInYrs).transmogrify()\n",
    "val randomSeed = 42L\n",
    "//val splitter = DataSplitter(seed = randomSeed)\n",
    "DataCutter.getClass\n",
    "val splitter = DataSplitter(seed = randomSeed)"
   ]
  },
  {
   "cell_type": "code",
   "execution_count": 46,
   "metadata": {},
   "outputs": [
    {
     "data": {
      "text/plain": [
       "Feature(name = piClass_1-stagesApplied_RealNN_00000000003d, uid = RealNN_00000000003d, isResponse = true, originStage = OpStringIndexerNoFilter_00000000003d, parents = [Text_000000000039], distributions = [])"
      ]
     },
     "execution_count": 46,
     "metadata": {},
     "output_type": "execute_result"
    }
   ],
   "source": [
    "import org.apache.spark.sql.Encoders\n",
    "\n",
    "implicit val piEncoder = Encoders.product[PimaIndians]\n",
    "\n",
    "//val piReader = DataReaders.Simple.csvCase[PimaIndians]()\n",
    "val labels = piClass.indexed()"
   ]
  },
  {
   "cell_type": "code",
   "execution_count": 47,
   "metadata": {},
   "outputs": [
    {
     "data": {
      "text/plain": [
       "Feature(name = ageInYrs-bmi-bp-diabetesPredigree-numberOfTimesPreg-piClass-plasmaGlucose-serumInsulin-spinThickness_4-stagesApplied_Prediction_000000000046, uid = Prediction_000000000046, isResponse = true, originStage = ModelSelector_000000000046, parents = [RealNN_00000000003d,OPVector_00000000003b], distributions = [])"
      ]
     },
     "execution_count": 47,
     "metadata": {},
     "output_type": "execute_result"
    }
   ],
   "source": [
    "import com.salesforce.op.stages.impl.classification.MultiClassificationModelSelector\n",
    "import com.salesforce.op.stages.impl.tuning.DataCutter\n",
    "\n",
    "val cutter = DataCutter(reserveTestFraction = 0.2, seed = randomSeed)\n",
    "\n",
    "val prediction = MultiClassificationModelSelector\n",
    "    .withCrossValidation(splitter = Option(cutter), seed = randomSeed)\n",
    "    .setInput(labels, features).getOutput()"
   ]
  },
  {
   "cell_type": "code",
   "execution_count": 48,
   "metadata": {},
   "outputs": [
    {
     "data": {
      "text/plain": [
       "OpMultiClassificationEvaluator_000000000047"
      ]
     },
     "execution_count": 48,
     "metadata": {},
     "output_type": "execute_result"
    }
   ],
   "source": [
    "val evaluator = Evaluators.MultiClassification.f1().setLabelCol(labels).setPredictionCol(prediction)"
   ]
  },
  {
   "cell_type": "code",
   "execution_count": 49,
   "metadata": {},
   "outputs": [
    {
     "data": {
      "text/plain": [
       "com.salesforce.op.OpWorkflow@7b2edc83"
      ]
     },
     "execution_count": 49,
     "metadata": {},
     "output_type": "execute_result"
    }
   ],
   "source": [
    "val workflow = new OpWorkflow().setResultFeatures(prediction, labels).setReader(trainDataReader)"
   ]
  },
  {
   "cell_type": "code",
   "execution_count": 50,
   "metadata": {},
   "outputs": [
    {
     "data": {
      "text/plain": [
       "com.salesforce.op.OpWorkflowModel@66a196"
      ]
     },
     "execution_count": 50,
     "metadata": {},
     "output_type": "execute_result"
    }
   ],
   "source": [
    "//val workflow = new OpWorkflow().setResultFeatures(prediction1, salePrice).setReader(trainDataReader)\n",
    "val workflowModel = workflow.train()"
   ]
  },
  {
   "cell_type": "code",
   "execution_count": 51,
   "metadata": {},
   "outputs": [
    {
     "data": {
      "text/plain": [
       "{\n",
       "  \"Precision\" : 0.7570318898443898,\n",
       "  \"Recall\" : 0.7604166666666667,\n",
       "  \"F1\" : 0.7587205032629305,\n",
       "  \"Error\" : 0.23958333333333337,\n",
       "  \"ThresholdMetrics\" : {\n",
       "    \"topNs\" : [ 1, 3 ],\n",
       "    \"thresholds\" : [ 0.0, 0.01, 0.02, 0.03, 0.04, 0.05, 0.06, 0.07, 0.08, 0.09, 0.1, 0.11, 0.12, 0.13, 0.14, 0.15, 0.16, 0.17, 0.18, 0.19, 0.2, 0.21, 0.22, 0.23, 0.24, 0.25, 0.26, 0.27, 0.28, 0.29, 0.3, 0.31, 0.32, 0.33, 0.34, 0.35, 0.36, 0.37, 0.38, 0.39, 0.4, 0.41, 0.42, 0.43, 0.44, 0.45, 0.46, 0.47, 0.48, 0.49, 0.5, 0.51, 0.52, 0.53, 0.54, 0.55, 0.56, 0.57, 0.58, 0.59, 0.6, 0.61, 0.62, 0.63, 0.64, 0.65, 0.66, 0.67, 0.68, 0.69, 0.7, 0.71, 0.72, 0.73, 0.74, 0.75, 0.76, 0.77, 0.78, 0.79, 0.8, 0.81, 0.82, 0.83, 0.84, 0.85, 0.86, 0.87, 0.88, 0.89, 0.9, 0.91, 0.92, 0.93, 0.94, 0.95, 0.96, 0.97, 0.98, 0.99, 1.0 ],\n",
       "    \"correctCounts\" : {\n",
       "      \"1\" : [ 584, 584, 584, 584, 584, 584, 584, 584, 584, 584, 584, 584, 584, 584, 584, 584, 584, 584, 584, 584, 584, 584, 584, 584, 584, 584, 584, 584, 584, 584, 584, 584, 584, 584, 584, 584, 584, 584, 584, 584, 584, 584, 584, 584, 584, 584, 584, 584, 584, 584, 584, 581, 573, 564, 558, 546, 538, 529, 514, 497, 487, 475, 456, 445, 425, 414, 396, 376, 356, 337, 317, 300, 279, 259, 235, 218, 196, 179, 160, 140, 123, 102, 75, 54, 42, 31, 25, 21, 18, 15, 11, 9, 7, 4, 3, 3, 3, 1, 0, 0, 0 ],\n",
       "      \"3\" : [ 768, 768, 768, 768, 768, 768, 766, 766, 766, 766, 766, 766, 766, 766, 766, 766, 766, 766, 765, 765, 762, 762, 761, 759, 756, 750, 749, 746, 743, 735, 731, 727, 720, 712, 705, 695, 685, 676, 670, 663, 658, 652, 647, 638, 633, 628, 622, 612, 603, 591, 584, 581, 573, 564, 558, 546, 538, 529, 514, 497, 487, 475, 456, 445, 425, 414, 396, 376, 356, 337, 317, 300, 279, 259, 235, 218, 196, 179, 160, 140, 123, 102, 75, 54, 42, 31, 25, 21, 18, 15, 11, 9, 7, 4, 3, 3, 3, 1, 0, 0, 0 ]\n",
       "    },\n",
       "    \"incorrectCounts\" : {\n",
       "      \"1\" : [ 184, 184, 184, 184, 184, 184, 184, 184, 184, 184, 184, 184, 184, 184, 184, 184, 184, 184, 184, 184, 184, 184, 184, 184, 184, 184, 184, 184, 184, 184, 184, 184, 184, 184, 184, 184, 184, 184, 184, 184, 184, 184, 184, 184, 184, 184, 184, 184, 184, 184, 184, 177, 165, 156, 146, 140, 135, 130, 121, 116, 110, 105, 98, 92, 83, 73, 63, 56, 48, 41, 37, 33, 25, 22, 19, 18, 12, 9, 7, 6, 6, 3, 3, 2, 2, 2, 2, 2, 2, 2, 2, 2, 2, 2, 2, 0, 0, 0, 0, 0, 0 ],\n",
       "      \"3\" : [ 0, 0, 0, 0, 0, 0, 2, 2, 2, 2, 2, 2, 2, 2, 2, 2, 2, 2, 3, 3, 6, 6, 7, 9, 12, 18, 19, 22, 25, 33, 37, 41, 48, 56, 63, 73, 83, 92, 98, 105, 110, 116, 121, 130, 135, 140, 146, 156, 165, 177, 184, 177, 165, 156, 146, 140, 135, 130, 121, 116, 110, 105, 98, 92, 83, 73, 63, 56, 48, 41, 37, 33, 25, 22, 19, 18, 12, 9, 7, 6, 6, 3, 3, 2, 2, 2, 2, 2, 2, 2, 2, 2, 2, 2, 2, 0, 0, 0, 0, 0, 0 ]\n",
       "    },\n",
       "    \"noPredictionCounts\" : {\n",
       "      \"1\" : [ 0, 0, 0, 0, 0, 0, 0, 0, 0, 0, 0, 0, 0, 0, 0, 0, 0, 0, 0, 0, 0, 0, 0, 0, 0, 0, 0, 0, 0, 0, 0, 0, 0, 0, 0, 0, 0, 0, 0, 0, 0, 0, 0, 0, 0, 0, 0, 0, 0, 0, 0, 10, 30, 48, 64, 82, 95, 109, 133, 155, 171, 188, 214, 231, 260, 281, 309, 336, 364, 390, 414, 435, 464, 487, 514, 532, 560, 580, 601, 622, 639, 663, 690, 712, 724, 735, 741, 745, 748, 751, 755, 757, 759, 762, 763, 765, 765, 767, 768, 768, 768 ],\n",
       "      \"3\" : [ 0, 0, 0, 0, 0, 0, 0, 0, 0, 0, 0, 0, 0, 0, 0, 0, 0, 0, 0, 0, 0, 0, 0, 0, 0, 0, 0, 0, 0, 0, 0, 0, 0, 0, 0, 0, 0, 0, 0, 0, 0, 0, 0, 0, 0, 0, 0, 0, 0, 0, 0, 10, 30, 48, 64, 82, 95, 109, 133, 155, 171, 188, 214, 231, 260, 281, 309, 336, 364, 390, 414, 435, 464, 487, 514, 532, 560, 580, 601, 622, 639, 663, 690, 712, 724, 735, 741, 745, 748, 751, 755, 757, 759, 762, 763, 765, 765, 767, 768, 768, 768 ]\n",
       "    }\n",
       "  }\n",
       "}"
      ]
     },
     "execution_count": 51,
     "metadata": {},
     "output_type": "execute_result"
    }
   ],
   "source": [
    "val (scores, metrics)  = workflowModel.scoreAndEvaluate(evaluator)"
   ]
  },
  {
   "cell_type": "code",
   "execution_count": 52,
   "metadata": {},
   "outputs": [
    {
     "name": "stdout",
     "output_type": "stream",
     "text": [
      "labelName: Some(piClass_1-stagesApplied_RealNN_00000000003d)\n",
      "rawFeatureName: List(piClass)\n",
      "stagesApplied: ArrayBuffer(str2idx_OpStringIndexerNoFilter_00000000003d)\n"
     ]
    },
    {
     "data": {
      "text/plain": [
       "null"
      ]
     },
     "execution_count": 52,
     "metadata": {},
     "output_type": "execute_result"
    }
   ],
   "source": [
    "val modelInsights = workflowModel.modelInsights(prediction)\n",
    "val labelSummary = modelInsights.label\n",
    "println(\"labelName: \" + labelSummary.labelName)\n",
    "println(\"rawFeatureName: \"+ labelSummary.rawFeatureName)\n",
    "println(\"stagesApplied: \" + labelSummary.stagesApplied)"
   ]
  },
  {
   "cell_type": "code",
   "execution_count": 53,
   "metadata": {},
   "outputs": [
    {
     "name": "stdout",
     "output_type": "stream",
     "text": [
      "diabetesPredigree_12, 0.0\n",
      "diabetesPredigree_diabetesPredigree_NullIndicatorValue_13, 0.0\n",
      "bmi_10, -0.012040871252285234\n",
      "bmi_bmi_NullIndicatorValue_11, 0.0\n",
      "plasmaGlucose_2, -0.003240799761412694\n",
      "plasmaGlucose_plasmaGlucose_NullIndicatorValue_3, 0.0\n",
      "bp_4, 0.0\n",
      "bp_bp_NullIndicatorValue_5, 0.0\n",
      "serumInsulin_8, 0.0\n",
      "serumInsulin_serumInsulin_NullIndicatorValue_9, 0.0\n",
      "spinThickness_6, 0.0\n",
      "spinThickness_spinThickness_NullIndicatorValue_7, 0.0\n",
      "ageInYrs_14, 0.0\n",
      "ageInYrs_ageInYrs_NullIndicatorValue_15, 0.0\n",
      "numberOfTimesPreg_0, -0.012224105954491008\n",
      "numberOfTimesPreg_numberOfTimesPreg_NullIndicatorValue_1, 0.0\n"
     ]
    },
    {
     "data": {
      "text/plain": [
       "null"
      ]
     },
     "execution_count": 53,
     "metadata": {},
     "output_type": "execute_result"
    }
   ],
   "source": [
    "val modelFeatures = modelInsights.features.flatMap( feature => feature.derivedFeatures)\n",
    "\n",
    "modelFeatures.foreach(x => println(x.derivedFeatureName + \", \" + x.contribution(0))  )"
   ]
  },
  {
   "cell_type": "code",
   "execution_count": 54,
   "metadata": {},
   "outputs": [
    {
     "name": "stdout",
     "output_type": "stream",
     "text": [
      "numberOfTimesPreg_0,0.03812653056659108\n",
      "bmi_10,0.01912940118532902\n",
      "plasmaGlucose_2,0.017670038311617633\n",
      "diabetesPredigree_12,0.0\n",
      "diabetesPredigree_diabetesPredigree_NullIndicatorValue_13,0.0\n",
      "bmi_bmi_NullIndicatorValue_11,0.0\n",
      "plasmaGlucose_plasmaGlucose_NullIndicatorValue_3,0.0\n",
      "bp_4,0.0\n",
      "bp_bp_NullIndicatorValue_5,0.0\n",
      "serumInsulin_8,0.0\n",
      "serumInsulin_serumInsulin_NullIndicatorValue_9,0.0\n",
      "spinThickness_6,0.0\n",
      "spinThickness_spinThickness_NullIndicatorValue_7,0.0\n",
      "ageInYrs_14,0.0\n",
      "ageInYrs_ageInYrs_NullIndicatorValue_15,0.0\n",
      "numberOfTimesPreg_numberOfTimesPreg_NullIndicatorValue_1,0.0\n"
     ]
    },
    {
     "data": {
      "text/plain": [
       "null"
      ]
     },
     "execution_count": 54,
     "metadata": {},
     "output_type": "execute_result"
    }
   ],
   "source": [
    "val featureContributions = modelFeatures.map( feature => (feature.derivedFeatureName,\n",
    "  feature.contribution.map( contribution => math.abs(contribution))\n",
    "  .foldLeft(0.0) { (max, contribution) => math.max(max, contribution)}))\n",
    "\n",
    "val sortedContributions = featureContributions.sortBy( contribution => -contribution._2)\n",
    "sortedContributions.foreach(x => println(x._1 + \",\" + x._2) )"
   ]
  },
  {
   "cell_type": "code",
   "execution_count": null,
   "metadata": {},
   "outputs": [],
   "source": []
  }
 ],
 "metadata": {
  "kernelspec": {
   "display_name": "Scala",
   "language": "scala",
   "name": "scala"
  },
  "language_info": {
   "codemirror_mode": "text/x-scala",
   "file_extension": ".scala",
   "mimetype": "",
   "name": "Scala",
   "nbconverter_exporter": "",
   "version": "2.11.12"
  },
  "toc": {
   "base_numbering": 1,
   "nav_menu": {},
   "number_sections": false,
   "sideBar": false,
   "skip_h1_title": false,
   "title_cell": "Table of Contents",
   "title_sidebar": "Contents",
   "toc_cell": false,
   "toc_position": {},
   "toc_section_display": false,
   "toc_window_display": false
  }
 },
 "nbformat": 4,
 "nbformat_minor": 2
}
