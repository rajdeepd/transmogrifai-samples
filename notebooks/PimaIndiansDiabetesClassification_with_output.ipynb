{
 "cells": [
  {
   "cell_type": "code",
   "execution_count": 6,
   "metadata": {},
   "outputs": [
    {
     "data": {
      "application/vnd.jupyter.widget-view+json": {
       "model_id": "",
       "version_major": 2,
       "version_minor": 0
      },
      "method": "display_data"
     },
     "metadata": {},
     "output_type": "display_data"
    },
    {
     "data": {
      "application/vnd.jupyter.widget-view+json": {
       "model_id": "a94355a7-24df-44e6-b85b-960d13cb4c5f",
       "version_major": 2,
       "version_minor": 0
      },
      "method": "display_data"
     },
     "metadata": {},
     "output_type": "display_data"
    }
   ],
   "source": [
    "%classpath add mvn com.salesforce.transmogrifai transmogrifai-core_2.11 0.6.0"
   ]
  },
  {
   "cell_type": "code",
   "execution_count": 13,
   "metadata": {},
   "outputs": [
    {
     "data": {
      "application/vnd.jupyter.widget-view+json": {
       "model_id": "",
       "version_major": 2,
       "version_minor": 0
      },
      "method": "display_data"
     },
     "metadata": {},
     "output_type": "display_data"
    },
    {
     "data": {
      "application/vnd.jupyter.widget-view+json": {
       "model_id": "05f2454b-d2f9-44aa-8aa7-258e417e9834",
       "version_major": 2,
       "version_minor": 0
      },
      "method": "display_data"
     },
     "metadata": {},
     "output_type": "display_data"
    }
   ],
   "source": [
    "%classpath add mvn org.apache.spark spark-mllib_2.11 2.4.3"
   ]
  },
  {
   "cell_type": "code",
   "execution_count": 14,
   "metadata": {},
   "outputs": [
    {
     "data": {
      "text/plain": [
       "import org.apache.spark.SparkConf\n",
       "import org.apache.spark.sql.SparkSession\n",
       "import org.apache.spark.SparkContext\n",
       "import org.apache.spark.sql.functions.udf\n",
       "import com.salesforce.op._\n",
       "import com.salesforce.op.features._\n",
       "import com.salesforce.op.features.types._\n",
       "import com.salesforce.op.evaluators.Evaluators\n"
      ]
     },
     "execution_count": 14,
     "metadata": {},
     "output_type": "execute_result"
    }
   ],
   "source": [
    "import org.apache.spark.SparkConf\n",
    "import org.apache.spark.sql.SparkSession\n",
    "import org.apache.spark.SparkContext\n",
    "import org.apache.spark.sql.functions.udf\n",
    "\n",
    "import com.salesforce.op._\n",
    "import com.salesforce.op.features._\n",
    "import com.salesforce.op.features.types._\n",
    "import com.salesforce.op.evaluators.Evaluators"
   ]
  },
  {
   "cell_type": "code",
   "execution_count": 33,
   "metadata": {},
   "outputs": [
    {
     "data": {
      "text/plain": [
       "DataSplitter_00000000002f"
      ]
     },
     "execution_count": 33,
     "metadata": {},
     "output_type": "execute_result"
    }
   ],
   "source": [
    "import com.salesforce.op.stages.impl.tuning.{DataCutter, DataSplitter}\n",
    "val randomSeed = 42L\n",
    "val splitter = DataSplitter(seed = randomSeed)"
   ]
  },
  {
   "cell_type": "code",
   "execution_count": 16,
   "metadata": {},
   "outputs": [
    {
     "data": {
      "text/plain": [
       "import com.salesforce.op.OpWorkflow\n",
       "import com.salesforce.op.evaluators.Evaluators\n",
       "import com.salesforce.op.readers.DataReaders\n"
      ]
     },
     "execution_count": 16,
     "metadata": {},
     "output_type": "execute_result"
    }
   ],
   "source": [
    "import com.salesforce.op.OpWorkflow\n",
    "import com.salesforce.op.evaluators.Evaluators\n",
    "import com.salesforce.op.readers.DataReaders"
   ]
  },
  {
   "cell_type": "code",
   "execution_count": 17,
   "metadata": {},
   "outputs": [
    {
     "data": {
      "text/plain": [
       "org.apache.spark.sql.SparkSession@4a42f1c"
      ]
     },
     "execution_count": 17,
     "metadata": {},
     "output_type": "execute_result"
    }
   ],
   "source": [
    "val conf = new SparkConf().setMaster(\"local[*]\").setAppName(\"PimaIndiansClassification\")\n",
    "implicit val spark = SparkSession.builder.config(conf).getOrCreate()"
   ]
  },
  {
   "cell_type": "code",
   "execution_count": 18,
   "metadata": {},
   "outputs": [
    {
     "data": {
      "text/plain": [
       "defined class PimaIndians\n"
      ]
     },
     "execution_count": 18,
     "metadata": {},
     "output_type": "execute_result"
    }
   ],
   "source": [
    "case class PimaIndians\n",
    "(\n",
    "  numberOfTimesPreg: Double,\n",
    "  plasmaGlucose: Double,\n",
    "  bp: Double,\n",
    "  spinThickness: Double,\n",
    "  serumInsulin: Double,\n",
    "  bmi: Double,\n",
    "  diabetesPredigree : Double,\n",
    "  ageInYrs : Double,\n",
    "  piClass: String\n",
    ")"
   ]
  },
  {
   "cell_type": "code",
   "execution_count": 19,
   "metadata": {},
   "outputs": [
    {
     "data": {
      "text/plain": [
       "Feature(name = piClass, uid = Text_00000000000d, isResponse = true, originStage = FeatureGeneratorStage_00000000000d, parents = [], distributions = [])"
      ]
     },
     "execution_count": 19,
     "metadata": {},
     "output_type": "execute_result"
    }
   ],
   "source": [
    "val numberOfTimesPreg = FeatureBuilder.Real[PimaIndians].extract(_.numberOfTimesPreg.toReal).asPredictor\n",
    "val plasmaGlucose = FeatureBuilder.Real[PimaIndians].extract(_.plasmaGlucose.toReal).asPredictor\n",
    "val bp = FeatureBuilder.Real[PimaIndians].extract(_.bp.toReal).asPredictor\n",
    "val spinThickness = FeatureBuilder.Real[PimaIndians].extract(_.spinThickness.toReal).asPredictor\n",
    "val serumInsulin = FeatureBuilder.Real[PimaIndians].extract(_.serumInsulin.toReal).asPredictor\n",
    "val bmi = FeatureBuilder.Real[PimaIndians].extract(_.bmi.toReal).asPredictor\n",
    "val diabetesPredigree = FeatureBuilder.Real[PimaIndians].extract(_.diabetesPredigree.toReal).asPredictor\n",
    "val ageInYrs = FeatureBuilder.Real[PimaIndians].extract(_.diabetesPredigree.toReal).asPredictor\n",
    "val piClass = FeatureBuilder.Text[PimaIndians].extract(_.piClass.toText).asResponse"
   ]
  },
  {
   "cell_type": "code",
   "execution_count": 20,
   "metadata": {},
   "outputs": [
    {
     "data": {
      "text/plain": [
       "../src/main/resources/PimaIndiansDataset/primaindiansdiabetes.data"
      ]
     },
     "execution_count": 20,
     "metadata": {},
     "output_type": "execute_result"
    }
   ],
   "source": [
    " val trainFilePath = \"../src/main/resources/PimaIndiansDataset/primaindiansdiabetes.data\""
   ]
  },
  {
   "cell_type": "code",
   "execution_count": 21,
   "metadata": {},
   "outputs": [
    {
     "data": {
      "text/plain": [
       "import com.salesforce.op.features.FeatureBuilder\n",
       "import com.salesforce.op.features.types._\n"
      ]
     },
     "execution_count": 21,
     "metadata": {},
     "output_type": "execute_result"
    }
   ],
   "source": [
    "import com.salesforce.op.features.FeatureBuilder\n",
    "import com.salesforce.op.features.types._"
   ]
  },
  {
   "cell_type": "code",
   "execution_count": 22,
   "metadata": {},
   "outputs": [
    {
     "data": {
      "text/plain": [
       "org.apache.spark.sql.SparkSession$implicits$@2aa956f"
      ]
     },
     "execution_count": 22,
     "metadata": {},
     "output_type": "execute_result"
    }
   ],
   "source": [
    "import spark.implicits._ \n",
    "val trainDataReader = DataReaders.Simple.csvCase[PimaIndians](\n",
    "      path = Option(trainFilePath)\n",
    "    )"
   ]
  },
  {
   "cell_type": "code",
   "execution_count": 23,
   "metadata": {},
   "outputs": [
    {
     "data": {
      "text/plain": [
       "DataSplitter_000000000010"
      ]
     },
     "execution_count": 23,
     "metadata": {},
     "output_type": "execute_result"
    }
   ],
   "source": [
    "import com.salesforce.op.stages.impl.tuning.{DataCutter, DataSplitter}\n",
    "\n",
    "val features = Seq( numberOfTimesPreg, plasmaGlucose,bp,spinThickness,serumInsulin,\n",
    "    bmi,diabetesPredigree,ageInYrs).transmogrify()\n",
    "val randomSeed = 42L\n",
    "//val splitter = DataSplitter(seed = randomSeed)\n",
    "DataCutter.getClass\n",
    "val splitter = DataSplitter(seed = randomSeed)"
   ]
  },
  {
   "cell_type": "code",
   "execution_count": 24,
   "metadata": {},
   "outputs": [
    {
     "data": {
      "text/plain": [
       "Feature(name = piClass_1-stagesApplied_RealNN_000000000011, uid = RealNN_000000000011, isResponse = true, originStage = OpStringIndexerNoFilter_000000000011, parents = [Text_00000000000d], distributions = [])"
      ]
     },
     "execution_count": 24,
     "metadata": {},
     "output_type": "execute_result"
    }
   ],
   "source": [
    "import org.apache.spark.sql.Encoders\n",
    "\n",
    "implicit val piEncoder = Encoders.product[PimaIndians]\n",
    "\n",
    "val piReader = DataReaders.Simple.csvCase[PimaIndians]()\n",
    "val labels = piClass.indexed()"
   ]
  },
  {
   "cell_type": "code",
   "execution_count": 25,
   "metadata": {},
   "outputs": [
    {
     "data": {
      "text/plain": [
       "Feature(name = ageInYrs-bmi-bp-diabetesPredigree-numberOfTimesPreg-piClass-plasmaGlucose-serumInsulin-spinThickness_4-stagesApplied_Prediction_00000000001a, uid = Prediction_00000000001a, isResponse = true, originStage = ModelSelector_00000000001a, parents = [RealNN_000000000011,OPVector_00000000000f], distributions = [])"
      ]
     },
     "execution_count": 25,
     "metadata": {},
     "output_type": "execute_result"
    }
   ],
   "source": [
    "import com.salesforce.op.stages.impl.classification.MultiClassificationModelSelector\n",
    "import com.salesforce.op.stages.impl.tuning.DataCutter\n",
    "\n",
    "val cutter = DataCutter(reserveTestFraction = 0.2, seed = randomSeed)\n",
    "\n",
    "val prediction = MultiClassificationModelSelector\n",
    "    .withCrossValidation(splitter = Option(cutter), seed = randomSeed)\n",
    "    .setInput(labels, features).getOutput()"
   ]
  },
  {
   "cell_type": "code",
   "execution_count": 26,
   "metadata": {},
   "outputs": [
    {
     "data": {
      "text/plain": [
       "OpMultiClassificationEvaluator_00000000001b"
      ]
     },
     "execution_count": 26,
     "metadata": {},
     "output_type": "execute_result"
    }
   ],
   "source": [
    "val evaluator = Evaluators.MultiClassification.f1().setLabelCol(labels).setPredictionCol(prediction)"
   ]
  },
  {
   "cell_type": "code",
   "execution_count": 27,
   "metadata": {},
   "outputs": [
    {
     "data": {
      "text/plain": [
       "com.salesforce.op.OpWorkflow@73d25274"
      ]
     },
     "execution_count": 27,
     "metadata": {},
     "output_type": "execute_result"
    }
   ],
   "source": [
    "val workflow = new OpWorkflow().setResultFeatures(prediction, labels).setReader(trainDataReader)"
   ]
  },
  {
   "cell_type": "code",
   "execution_count": 28,
   "metadata": {},
   "outputs": [
    {
     "data": {
      "text/plain": [
       "com.salesforce.op.OpWorkflowModel@779dac22"
      ]
     },
     "execution_count": 28,
     "metadata": {},
     "output_type": "execute_result"
    }
   ],
   "source": [
    "//val workflow = new OpWorkflow().setResultFeatures(prediction1, salePrice).setReader(trainDataReader)\n",
    "val workflowModel = workflow.train()"
   ]
  },
  {
   "cell_type": "code",
   "execution_count": 29,
   "metadata": {},
   "outputs": [
    {
     "data": {
      "text/plain": [
       "{\n",
       "  \"Precision\" : 0.7676517722473605,\n",
       "  \"Recall\" : 0.7682291666666667,\n",
       "  \"F1\" : 0.7679403609250608,\n",
       "  \"Error\" : 0.23177083333333337,\n",
       "  \"ThresholdMetrics\" : {\n",
       "    \"topNs\" : [ 1, 3 ],\n",
       "    \"thresholds\" : [ 0.0, 0.01, 0.02, 0.03, 0.04, 0.05, 0.06, 0.07, 0.08, 0.09, 0.1, 0.11, 0.12, 0.13, 0.14, 0.15, 0.16, 0.17, 0.18, 0.19, 0.2, 0.21, 0.22, 0.23, 0.24, 0.25, 0.26, 0.27, 0.28, 0.29, 0.3, 0.31, 0.32, 0.33, 0.34, 0.35, 0.36, 0.37, 0.38, 0.39, 0.4, 0.41, 0.42, 0.43, 0.44, 0.45, 0.46, 0.47, 0.48, 0.49, 0.5, 0.51, 0.52, 0.53, 0.54, 0.55, 0.56, 0.57, 0.58, 0.59, 0.6, 0.61, 0.62, 0.63, 0.64, 0.65, 0.66, 0.67, 0.68, 0.69, 0.7, 0.71, 0.72, 0.73, 0.74, 0.75, 0.76, 0.77, 0.78, 0.79, 0.8, 0.81, 0.82, 0.83, 0.84, 0.85, 0.86, 0.87, 0.88, 0.89, 0.9, 0.91, 0.92, 0.93, 0.94, 0.95, 0.96, 0.97, 0.98, 0.99, 1.0 ],\n",
       "    \"correctCounts\" : {\n",
       "      \"1\" : [ 590, 590, 590, 590, 590, 590, 590, 590, 590, 590, 590, 590, 590, 590, 590, 590, 590, 590, 590, 590, 590, 590, 590, 590, 590, 590, 590, 590, 590, 590, 590, 590, 590, 590, 590, 590, 590, 590, 590, 590, 590, 590, 590, 590, 590, 590, 590, 590, 590, 590, 590, 585, 579, 568, 559, 551, 541, 533, 520, 509, 495, 484, 470, 461, 451, 433, 417, 399, 393, 366, 347, 335, 313, 300, 281, 262, 241, 225, 202, 186, 166, 151, 131, 107, 89, 66, 56, 39, 27, 26, 21, 19, 14, 8, 7, 7, 6, 3, 0, 0, 0 ],\n",
       "      \"3\" : [ 768, 768, 768, 768, 768, 768, 767, 766, 766, 766, 766, 766, 765, 765, 763, 763, 763, 762, 762, 760, 760, 756, 753, 750, 750, 744, 742, 738, 732, 723, 719, 715, 706, 698, 693, 688, 681, 673, 665, 656, 652, 650, 644, 637, 628, 620, 613, 608, 602, 596, 590, 585, 579, 568, 559, 551, 541, 533, 520, 509, 495, 484, 470, 461, 451, 433, 417, 399, 393, 366, 347, 335, 313, 300, 281, 262, 241, 225, 202, 186, 166, 151, 131, 107, 89, 66, 56, 39, 27, 26, 21, 19, 14, 8, 7, 7, 6, 3, 0, 0, 0 ]\n",
       "    },\n",
       "    \"incorrectCounts\" : {\n",
       "      \"1\" : [ 178, 178, 178, 178, 178, 178, 178, 178, 178, 178, 178, 178, 178, 178, 178, 178, 178, 178, 178, 178, 178, 178, 178, 178, 178, 178, 178, 178, 178, 178, 178, 178, 178, 178, 178, 178, 178, 178, 178, 178, 178, 178, 178, 178, 178, 178, 178, 178, 178, 178, 178, 172, 166, 160, 155, 148, 140, 131, 124, 118, 116, 112, 103, 95, 87, 80, 75, 70, 62, 53, 49, 45, 36, 30, 26, 24, 18, 18, 15, 12, 8, 8, 6, 6, 5, 5, 5, 3, 3, 2, 2, 2, 2, 2, 1, 0, 0, 0, 0, 0, 0 ],\n",
       "      \"3\" : [ 0, 0, 0, 0, 0, 0, 1, 2, 2, 2, 2, 2, 3, 3, 5, 5, 5, 6, 6, 8, 8, 12, 15, 18, 18, 24, 26, 30, 36, 45, 49, 53, 62, 70, 75, 80, 87, 95, 103, 112, 116, 118, 124, 131, 140, 148, 155, 160, 166, 172, 178, 172, 166, 160, 155, 148, 140, 131, 124, 118, 116, 112, 103, 95, 87, 80, 75, 70, 62, 53, 49, 45, 36, 30, 26, 24, 18, 18, 15, 12, 8, 8, 6, 6, 5, 5, 5, 3, 3, 2, 2, 2, 2, 2, 1, 0, 0, 0, 0, 0, 0 ]\n",
       "    },\n",
       "    \"noPredictionCounts\" : {\n",
       "      \"1\" : [ 0, 0, 0, 0, 0, 0, 0, 0, 0, 0, 0, 0, 0, 0, 0, 0, 0, 0, 0, 0, 0, 0, 0, 0, 0, 0, 0, 0, 0, 0, 0, 0, 0, 0, 0, 0, 0, 0, 0, 0, 0, 0, 0, 0, 0, 0, 0, 0, 0, 0, 0, 11, 23, 40, 54, 69, 87, 104, 124, 141, 157, 172, 195, 212, 230, 255, 276, 299, 313, 349, 372, 388, 419, 438, 461, 482, 509, 525, 551, 570, 594, 609, 631, 655, 674, 697, 707, 726, 738, 740, 745, 747, 752, 758, 760, 761, 762, 765, 768, 768, 768 ],\n",
       "      \"3\" : [ 0, 0, 0, 0, 0, 0, 0, 0, 0, 0, 0, 0, 0, 0, 0, 0, 0, 0, 0, 0, 0, 0, 0, 0, 0, 0, 0, 0, 0, 0, 0, 0, 0, 0, 0, 0, 0, 0, 0, 0, 0, 0, 0, 0, 0, 0, 0, 0, 0, 0, 0, 11, 23, 40, 54, 69, 87, 104, 124, 141, 157, 172, 195, 212, 230, 255, 276, 299, 313, 349, 372, 388, 419, 438, 461, 482, 509, 525, 551, 570, 594, 609, 631, 655, 674, 697, 707, 726, 738, 740, 745, 747, 752, 758, 760, 761, 762, 765, 768, 768, 768 ]\n",
       "    }\n",
       "  }\n",
       "}"
      ]
     },
     "execution_count": 29,
     "metadata": {},
     "output_type": "execute_result"
    }
   ],
   "source": [
    "val (scores, metrics)  = workflowModel.scoreAndEvaluate(evaluator)"
   ]
  },
  {
   "cell_type": "code",
   "execution_count": 30,
   "metadata": {},
   "outputs": [
    {
     "name": "stdout",
     "output_type": "stream",
     "text": [
      "labelName: Some(piClass_1-stagesApplied_RealNN_000000000011)\n",
      "rawFeatureName: List(piClass)\n",
      "stagesApplied: ArrayBuffer(str2idx_OpStringIndexerNoFilter_000000000011)\n"
     ]
    },
    {
     "data": {
      "text/plain": [
       "null"
      ]
     },
     "execution_count": 30,
     "metadata": {},
     "output_type": "execute_result"
    }
   ],
   "source": [
    "val modelInsights = workflowModel.modelInsights(prediction)\n",
    "val labelSummary = modelInsights.label\n",
    "println(\"labelName: \" + labelSummary.labelName)\n",
    "println(\"rawFeatureName: \"+ labelSummary.rawFeatureName)\n",
    "println(\"stagesApplied: \" + labelSummary.stagesApplied)"
   ]
  },
  {
   "cell_type": "code",
   "execution_count": 31,
   "metadata": {},
   "outputs": [
    {
     "name": "stdout",
     "output_type": "stream",
     "text": [
      "diabetesPredigree_12, -0.043836894589097855\n",
      "diabetesPredigree_diabetesPredigree_NullIndicatorValue_13, 0.0\n",
      "bmi_10, -0.024468078842777487\n",
      "bmi_bmi_NullIndicatorValue_11, 0.0\n",
      "plasmaGlucose_2, -0.007777490072994181\n",
      "plasmaGlucose_plasmaGlucose_NullIndicatorValue_3, 0.0\n",
      "bp_4, 0.005743323370099911\n",
      "bp_bp_NullIndicatorValue_5, 0.0\n",
      "serumInsulin_8, 0.0\n",
      "serumInsulin_serumInsulin_NullIndicatorValue_9, 0.0\n",
      "spinThickness_6, 0.0\n",
      "spinThickness_spinThickness_NullIndicatorValue_7, 0.0\n",
      "ageInYrs_14, -0.043836894589097855\n",
      "ageInYrs_ageInYrs_NullIndicatorValue_15, 0.0\n",
      "numberOfTimesPreg_0, -0.017809435632573617\n",
      "numberOfTimesPreg_numberOfTimesPreg_NullIndicatorValue_1, 0.0\n"
     ]
    },
    {
     "data": {
      "text/plain": [
       "null"
      ]
     },
     "execution_count": 31,
     "metadata": {},
     "output_type": "execute_result"
    }
   ],
   "source": [
    "val modelFeatures = modelInsights.features.flatMap( feature => feature.derivedFeatures)\n",
    "\n",
    "modelFeatures.foreach(x => println(x.derivedFeatureName + \", \" + x.contribution(0))  )\n",
    "//println(\"FeatureName, Contribution\") "
   ]
  },
  {
   "cell_type": "code",
   "execution_count": 32,
   "metadata": {},
   "outputs": [
    {
     "name": "stdout",
     "output_type": "stream",
     "text": [
      "diabetesPredigree_12,0.16054799085509808\n",
      "ageInYrs_14,0.16054799085509808\n",
      "numberOfTimesPreg_0,0.046963977191149406\n",
      "bmi_10,0.024468078842777487\n",
      "plasmaGlucose_2,0.012850277986778265\n",
      "bp_4,0.010888901394568495\n",
      "diabetesPredigree_diabetesPredigree_NullIndicatorValue_13,0.0\n",
      "bmi_bmi_NullIndicatorValue_11,0.0\n",
      "plasmaGlucose_plasmaGlucose_NullIndicatorValue_3,0.0\n",
      "bp_bp_NullIndicatorValue_5,0.0\n",
      "serumInsulin_8,0.0\n",
      "serumInsulin_serumInsulin_NullIndicatorValue_9,0.0\n",
      "spinThickness_6,0.0\n",
      "spinThickness_spinThickness_NullIndicatorValue_7,0.0\n",
      "ageInYrs_ageInYrs_NullIndicatorValue_15,0.0\n",
      "numberOfTimesPreg_numberOfTimesPreg_NullIndicatorValue_1,0.0\n"
     ]
    },
    {
     "data": {
      "text/plain": [
       "null"
      ]
     },
     "execution_count": 32,
     "metadata": {},
     "output_type": "execute_result"
    }
   ],
   "source": [
    "val featureContributions = modelFeatures.map( feature => (feature.derivedFeatureName,\n",
    "  feature.contribution.map( contribution => math.abs(contribution))\n",
    "  .foldLeft(0.0) { (max, contribution) => math.max(max, contribution)}))\n",
    "\n",
    "val sortedContributions = featureContributions.sortBy( contribution => -contribution._2)\n",
    "sortedContributions.foreach(x => println(x._1 + \",\" + x._2) )"
   ]
  },
  {
   "cell_type": "code",
   "execution_count": null,
   "metadata": {},
   "outputs": [],
   "source": []
  }
 ],
 "metadata": {
  "kernelspec": {
   "display_name": "Scala",
   "language": "scala",
   "name": "scala"
  },
  "language_info": {
   "codemirror_mode": "text/x-scala",
   "file_extension": ".scala",
   "mimetype": "",
   "name": "Scala",
   "nbconverter_exporter": "",
   "version": "2.11.12"
  },
  "toc": {
   "base_numbering": 1,
   "nav_menu": {},
   "number_sections": false,
   "sideBar": false,
   "skip_h1_title": false,
   "title_cell": "Table of Contents",
   "title_sidebar": "Contents",
   "toc_cell": false,
   "toc_position": {},
   "toc_section_display": false,
   "toc_window_display": false
  }
 },
 "nbformat": 4,
 "nbformat_minor": 2
}
