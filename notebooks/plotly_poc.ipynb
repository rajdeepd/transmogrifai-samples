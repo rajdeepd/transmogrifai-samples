{
 "cells": [
  {
   "cell_type": "code",
   "execution_count": 1,
   "metadata": {},
   "outputs": [
    {
     "ename": "input is incomplete",
     "evalue": "input is incomplete",
     "output_type": "error",
     "traceback": [
      "\u001b[1;31minput is incomplete\u001b[0;0m"
     ]
    },
    {
     "data": {
      "application/vnd.jupyter.widget-view+json": {
       "model_id": "",
       "version_major": 2,
       "version_minor": 0
      },
      "method": "display_data"
     },
     "metadata": {},
     "output_type": "display_data"
    },
    {
     "data": {
      "application/vnd.jupyter.widget-view+json": {
       "model_id": "64741faa-cd6f-449f-bd79-e5ba2b543a52",
       "version_major": 2,
       "version_minor": 0
      },
      "method": "display_data"
     },
     "metadata": {},
     "output_type": "display_data"
    }
   ],
   "source": [
    "//org.plotly-scala\" %% \"plotly-core\" % \"0.7.0\"\n",
    "%classpath add mvn co.theasi plotly_2.11 0.2.0"
   ]
  },
  {
   "cell_type": "code",
   "execution_count": 2,
   "metadata": {},
   "outputs": [
    {
     "data": {
      "text/plain": [
       "import co.theasi.plotly._\n"
      ]
     },
     "execution_count": 2,
     "metadata": {},
     "output_type": "execute_result"
    }
   ],
   "source": [
    "import co.theasi.plotly._"
   ]
  },
  {
   "cell_type": "code",
   "execution_count": 3,
   "metadata": {},
   "outputs": [
    {
     "data": {
      "text/plain": [
       "[[1.0, 2.0, 3.0]]"
      ]
     },
     "execution_count": 3,
     "metadata": {},
     "output_type": "execute_result"
    }
   ],
   "source": [
    "val x = Vector(1.0, 2.0, 3.0)"
   ]
  },
  {
   "cell_type": "code",
   "execution_count": 4,
   "metadata": {},
   "outputs": [
    {
     "data": {
      "text/plain": [
       "[[1.0, 4.0, 9.0]]"
      ]
     },
     "execution_count": 4,
     "metadata": {},
     "output_type": "execute_result"
    }
   ],
   "source": [
    "val y = Vector(1.0, 4.0, 9.0)"
   ]
  },
  {
   "cell_type": "code",
   "execution_count": 5,
   "metadata": {},
   "outputs": [
    {
     "data": {
      "text/plain": [
       "CartesianPlot(Vector(Scatter(Vector(PDouble(1.0), PDouble(2.0), PDouble(3.0)),Vector(PDouble(1.0), PDouble(4.0), PDouble(9.0)),ScatterOptions(None,List(),None,MarkerOptions(None,None,None,None,None)))),CartesianPlotOptions(Axis(AxisOptions(None,None,None,None,None,None,None,Font(None,None,None),Font(None,None,None),None,None,None,None)),Axis(AxisOptions(None,None,None,None,None,None,None,Font(None,None,None),Font(None,None,None),None,None,None,None))))"
      ]
     },
     "execution_count": 5,
     "metadata": {},
     "output_type": "execute_result"
    }
   ],
   "source": [
    "val p = Plot().withScatter(x, y)"
   ]
  },
  {
   "cell_type": "code",
   "execution_count": 6,
   "metadata": {},
   "outputs": [
    {
     "ename": "java.io.FileNotFoundException",
     "evalue": " /home/beakerx/.plotly/.credentials (No such file or directory)",
     "output_type": "error",
     "traceback": [
      "\u001b[1;31mjava.io.FileNotFoundException: /home/beakerx/.plotly/.credentials (No such file or directory)\u001b[0;0m",
      "\u001b[1;31m  at java.io.FileInputStream.open0(Native Method)\u001b[0;0m",
      "\u001b[1;31m  at java.io.FileInputStream.open(FileInputStream.java:195)\u001b[0;0m",
      "\u001b[1;31m  at java.io.FileInputStream.<init>(FileInputStream.java:138)\u001b[0;0m",
      "\u001b[1;31m  at scala.io.Source$.fromFile(Source.scala:91)\u001b[0;0m",
      "\u001b[1;31m  at scala.io.Source$.fromFile(Source.scala:76)\u001b[0;0m",
      "\u001b[1;31m  at scala.io.Source$.fromFile(Source.scala:54)\u001b[0;0m",
      "\u001b[1;31m  at co.theasi.plotly.writer.Credentials$.fromFile(Credentials.scala:19)\u001b[0;0m",
      "\u001b[1;31m  at co.theasi.plotly.writer.Credentials$.read(Credentials.scala:16)\u001b[0;0m",
      "\u001b[1;31m  at co.theasi.plotly.writer.ServerWithDefaultCredentials$.credentials$lzycompute(Server.scala:4)\u001b[0;0m",
      "\u001b[1;31m  at co.theasi.plotly.writer.ServerWithDefaultCredentials$.credentials(Server.scala:4)\u001b[0;0m",
      "\u001b[1;31m  at co.theasi.plotly.writer.Api$.get(Api.scala:12)\u001b[0;0m",
      "\u001b[1;31m  at co.theasi.plotly.writer.Api$.get(Api.scala:28)\u001b[0;0m",
      "\u001b[1;31m  at co.theasi.plotly.writer.PlotFile$.fromFileName(PlotFile.scala:14)\u001b[0;0m",
      "\u001b[1;31m  at co.theasi.plotly.writer.FigureWriter$$anonfun$33.apply(FigureWriter.scala:285)\u001b[0;0m",
      "\u001b[1;31m  at co.theasi.plotly.writer.FigureWriter$$anonfun$33.apply(FigureWriter.scala:285)\u001b[0;0m",
      "\u001b[1;31m  at scala.util.Try$.apply(Try.scala:192)\u001b[0;0m",
      "\u001b[1;31m  at co.theasi.plotly.writer.FigureWriter$.deleteIfExists(FigureWriter.scala:285)\u001b[0;0m",
      "\u001b[1;31m  at co.theasi.plotly.writer.FigureWriter$.draw(FigureWriter.scala:18)\u001b[0;0m",
      "\u001b[1;31m  at co.theasi.plotly.writer.ServerWriter$class.draw(ServerWriter.scala:26)\u001b[0;0m",
      "\u001b[1;31m  at co.theasi.plotly.package$.draw(package.scala:34)\u001b[0;0m",
      "\u001b[1;31m  at co.theasi.plotly.writer.ServerWriter$class.draw(ServerWriter.scala:44)\u001b[0;0m",
      "\u001b[1;31m  at co.theasi.plotly.package$.draw(package.scala:34)\u001b[0;0m",
      "\u001b[1;31m  at co.theasi.plotly.writer.ServerWriter$class.draw(ServerWriter.scala:34)\u001b[0;0m",
      "\u001b[1;31m  at co.theasi.plotly.package$.draw(package.scala:34)\u001b[0;0m",
      "\u001b[1;31m  ... 48 elided\u001b[0;0m"
     ]
    }
   ],
   "source": [
    "draw(p, \"hello-plotly\")"
   ]
  },
  {
   "cell_type": "code",
   "execution_count": null,
   "metadata": {},
   "outputs": [],
   "source": []
  }
 ],
 "metadata": {
  "kernelspec": {
   "display_name": "Scala",
   "language": "scala",
   "name": "scala"
  },
  "language_info": {
   "codemirror_mode": "text/x-scala",
   "file_extension": ".scala",
   "mimetype": "",
   "name": "Scala",
   "nbconverter_exporter": "",
   "version": "2.11.12"
  },
  "toc": {
   "base_numbering": 1,
   "nav_menu": {},
   "number_sections": false,
   "sideBar": false,
   "skip_h1_title": false,
   "title_cell": "Table of Contents",
   "title_sidebar": "Contents",
   "toc_cell": false,
   "toc_position": {},
   "toc_section_display": false,
   "toc_window_display": false
  }
 },
 "nbformat": 4,
 "nbformat_minor": 2
}
