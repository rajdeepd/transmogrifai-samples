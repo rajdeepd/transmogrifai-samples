{
 "cells": [
  {
   "cell_type": "code",
   "execution_count": 1,
   "metadata": {},
   "outputs": [],
   "source": [
    "import pandas as pd"
   ]
  },
  {
   "cell_type": "code",
   "execution_count": 2,
   "metadata": {},
   "outputs": [],
   "source": [
    "path = '../../../../output/pimaindians/modeleval/output.csv'"
   ]
  },
  {
   "cell_type": "code",
   "execution_count": 3,
   "metadata": {},
   "outputs": [],
   "source": [
    "data = pd.read_csv(path)"
   ]
  },
  {
   "cell_type": "code",
   "execution_count": 4,
   "metadata": {},
   "outputs": [
    {
     "data": {
      "text/html": [
       "<div>\n",
       "<style scoped>\n",
       "    .dataframe tbody tr th:only-of-type {\n",
       "        vertical-align: middle;\n",
       "    }\n",
       "\n",
       "    .dataframe tbody tr th {\n",
       "        vertical-align: top;\n",
       "    }\n",
       "\n",
       "    .dataframe thead th {\n",
       "        text-align: right;\n",
       "    }\n",
       "</style>\n",
       "<table border=\"1\" class=\"dataframe\">\n",
       "  <thead>\n",
       "    <tr style=\"text-align: right;\">\n",
       "      <th></th>\n",
       "      <th>modelName</th>\n",
       "      <th>modelType</th>\n",
       "      <th>regularizationParam</th>\n",
       "      <th>maxDepth</th>\n",
       "      <th>metricValue</th>\n",
       "    </tr>\n",
       "  </thead>\n",
       "  <tbody>\n",
       "    <tr>\n",
       "      <th>0</th>\n",
       "      <td>OpLogisticRegression_000000000019_1</td>\n",
       "      <td>OpLogisticRegression</td>\n",
       "      <td>0.010</td>\n",
       "      <td>NaN</td>\n",
       "      <td>0.229517</td>\n",
       "    </tr>\n",
       "    <tr>\n",
       "      <th>1</th>\n",
       "      <td>OpLogisticRegression_000000000019_2</td>\n",
       "      <td>OpLogisticRegression</td>\n",
       "      <td>0.100</td>\n",
       "      <td>NaN</td>\n",
       "      <td>0.220464</td>\n",
       "    </tr>\n",
       "    <tr>\n",
       "      <th>2</th>\n",
       "      <td>OpLogisticRegression_000000000019_3</td>\n",
       "      <td>OpLogisticRegression</td>\n",
       "      <td>0.200</td>\n",
       "      <td>NaN</td>\n",
       "      <td>0.226691</td>\n",
       "    </tr>\n",
       "    <tr>\n",
       "      <th>3</th>\n",
       "      <td>OpLogisticRegression_000000000019_4</td>\n",
       "      <td>OpLogisticRegression</td>\n",
       "      <td>0.001</td>\n",
       "      <td>NaN</td>\n",
       "      <td>0.216625</td>\n",
       "    </tr>\n",
       "    <tr>\n",
       "      <th>4</th>\n",
       "      <td>OpLogisticRegression_000000000019_5</td>\n",
       "      <td>OpLogisticRegression</td>\n",
       "      <td>0.010</td>\n",
       "      <td>NaN</td>\n",
       "      <td>0.234593</td>\n",
       "    </tr>\n",
       "    <tr>\n",
       "      <th>5</th>\n",
       "      <td>OpLogisticRegression_000000000019_6</td>\n",
       "      <td>OpLogisticRegression</td>\n",
       "      <td>0.100</td>\n",
       "      <td>NaN</td>\n",
       "      <td>0.222506</td>\n",
       "    </tr>\n",
       "    <tr>\n",
       "      <th>6</th>\n",
       "      <td>OpLogisticRegression_000000000019_7</td>\n",
       "      <td>OpLogisticRegression</td>\n",
       "      <td>0.200</td>\n",
       "      <td>NaN</td>\n",
       "      <td>0.291327</td>\n",
       "    </tr>\n",
       "    <tr>\n",
       "      <th>7</th>\n",
       "      <td>OpRandomForestClassifier_00000000001a_0</td>\n",
       "      <td>OpRandomForestClassifier</td>\n",
       "      <td>NaN</td>\n",
       "      <td>3.0</td>\n",
       "      <td>0.245524</td>\n",
       "    </tr>\n",
       "    <tr>\n",
       "      <th>8</th>\n",
       "      <td>OpRandomForestClassifier_00000000001a_1</td>\n",
       "      <td>OpRandomForestClassifier</td>\n",
       "      <td>NaN</td>\n",
       "      <td>6.0</td>\n",
       "      <td>0.243518</td>\n",
       "    </tr>\n",
       "    <tr>\n",
       "      <th>9</th>\n",
       "      <td>OpRandomForestClassifier_00000000001a_2</td>\n",
       "      <td>OpRandomForestClassifier</td>\n",
       "      <td>NaN</td>\n",
       "      <td>12.0</td>\n",
       "      <td>0.243823</td>\n",
       "    </tr>\n",
       "  </tbody>\n",
       "</table>\n",
       "</div>"
      ],
      "text/plain": [
       "                                 modelName                 modelType  \\\n",
       "0      OpLogisticRegression_000000000019_1      OpLogisticRegression   \n",
       "1      OpLogisticRegression_000000000019_2      OpLogisticRegression   \n",
       "2      OpLogisticRegression_000000000019_3      OpLogisticRegression   \n",
       "3      OpLogisticRegression_000000000019_4      OpLogisticRegression   \n",
       "4      OpLogisticRegression_000000000019_5      OpLogisticRegression   \n",
       "5      OpLogisticRegression_000000000019_6      OpLogisticRegression   \n",
       "6      OpLogisticRegression_000000000019_7      OpLogisticRegression   \n",
       "7  OpRandomForestClassifier_00000000001a_0  OpRandomForestClassifier   \n",
       "8  OpRandomForestClassifier_00000000001a_1  OpRandomForestClassifier   \n",
       "9  OpRandomForestClassifier_00000000001a_2  OpRandomForestClassifier   \n",
       "\n",
       "   regularizationParam  maxDepth  metricValue  \n",
       "0                0.010       NaN     0.229517  \n",
       "1                0.100       NaN     0.220464  \n",
       "2                0.200       NaN     0.226691  \n",
       "3                0.001       NaN     0.216625  \n",
       "4                0.010       NaN     0.234593  \n",
       "5                0.100       NaN     0.222506  \n",
       "6                0.200       NaN     0.291327  \n",
       "7                  NaN       3.0     0.245524  \n",
       "8                  NaN       6.0     0.243518  \n",
       "9                  NaN      12.0     0.243823  "
      ]
     },
     "execution_count": 4,
     "metadata": {},
     "output_type": "execute_result"
    }
   ],
   "source": [
    "data.head(n=10)"
   ]
  },
  {
   "cell_type": "code",
   "execution_count": 5,
   "metadata": {},
   "outputs": [
    {
     "data": {
      "text/plain": [
       "array(['modelName', 'modelType', 'regularizationParam', 'maxDepth',\n",
       "       'metricValue'], dtype=object)"
      ]
     },
     "execution_count": 5,
     "metadata": {},
     "output_type": "execute_result"
    }
   ],
   "source": [
    "data.columns.values"
   ]
  },
  {
   "cell_type": "code",
   "execution_count": 6,
   "metadata": {},
   "outputs": [],
   "source": [
    "data_name_metrics = data.iloc[:,[0,4]] \n",
    "data_name_metrics_np = data_name_metrics.values"
   ]
  },
  {
   "cell_type": "code",
   "execution_count": 7,
   "metadata": {},
   "outputs": [
    {
     "data": {
      "text/plain": [
       "array([['OpLogisticRegression_000000000019_1', 0.2295168693371483],\n",
       "       ['OpLogisticRegression_000000000019_2', 0.22046390981285216],\n",
       "       ['OpLogisticRegression_000000000019_3', 0.2266910698471091],\n",
       "       ['OpLogisticRegression_000000000019_4', 0.2166247579146108],\n",
       "       ['OpLogisticRegression_000000000019_5', 0.2345929072630483],\n",
       "       ['OpLogisticRegression_000000000019_6', 0.22250551687055364],\n",
       "       ['OpLogisticRegression_000000000019_7', 0.2913271084542544],\n",
       "       ['OpRandomForestClassifier_00000000001a_0', 0.24552370125446454],\n",
       "       ['OpRandomForestClassifier_00000000001a_1', 0.2435175250357653],\n",
       "       ['OpRandomForestClassifier_00000000001a_2', 0.2438230209823557],\n",
       "       ['OpRandomForestClassifier_00000000001a_3', 0.2512013031249696],\n",
       "       ['OpRandomForestClassifier_00000000001a_4', 0.23911938702519636],\n",
       "       ['OpRandomForestClassifier_00000000001a_5', 0.23884932191760824],\n",
       "       ['OpRandomForestClassifier_00000000001a_6', 0.33595339065526064],\n",
       "       ['OpRandomForestClassifier_00000000001a_7', 0.33595339065526064],\n",
       "       ['OpRandomForestClassifier_00000000001a_8', 0.33595339065526064],\n",
       "       ['OpRandomForestClassifier_00000000001a_9', 0.3062796828316448],\n",
       "       ['OpRandomForestClassifier_00000000001a_10', 0.3062796828316448],\n",
       "       ['OpRandomForestClassifier_00000000001a_11', 0.3062796828316448],\n",
       "       ['OpRandomForestClassifier_00000000001a_12', 0.31567356914153355],\n",
       "       ['OpRandomForestClassifier_00000000001a_13', 0.31567356914153355],\n",
       "       ['OpRandomForestClassifier_00000000001a_14', 0.31567356914153355],\n",
       "       ['OpRandomForestClassifier_00000000001a_15', 0.33595339065526064],\n",
       "       ['OpRandomForestClassifier_00000000001a_16', 0.33595339065526064],\n",
       "       ['OpRandomForestClassifier_00000000001a_17', 0.33595339065526064]],\n",
       "      dtype=object)"
      ]
     },
     "execution_count": 7,
     "metadata": {},
     "output_type": "execute_result"
    }
   ],
   "source": [
    "data_name_metrics_np"
   ]
  },
  {
   "cell_type": "code",
   "execution_count": 8,
   "metadata": {},
   "outputs": [],
   "source": [
    "x = data_name_metrics_np[:,0]\n",
    "y = data_name_metrics_np[:,1]"
   ]
  },
  {
   "cell_type": "code",
   "execution_count": 9,
   "metadata": {},
   "outputs": [
    {
     "data": {
      "text/plain": [
       "<Figure size 640x480 with 1 Axes>"
      ]
     },
     "metadata": {},
     "output_type": "display_data"
    }
   ],
   "source": [
    "from matplotlib import pyplot as plt \n",
    "\n",
    "plt.bar(x, y, align = 'center')  \n",
    "plt.title('TransmogrifAI - PrimaIndians, Algorithm vs Error') \n",
    "plt.ylabel('Error') \n",
    "plt.xlabel('Algorithm Name')  \n",
    "plt.xticks(rotation=90)\n",
    "plt.show()"
   ]
  },
  {
   "cell_type": "code",
   "execution_count": 10,
   "metadata": {},
   "outputs": [],
   "source": [
    "data_lr = data.loc[data['modelType'] == 'OpLogisticRegression']"
   ]
  },
  {
   "cell_type": "code",
   "execution_count": 11,
   "metadata": {},
   "outputs": [],
   "source": [
    "data_lr_filtered = data_lr.iloc[:,[2,4]] "
   ]
  },
  {
   "cell_type": "code",
   "execution_count": 12,
   "metadata": {},
   "outputs": [
    {
     "data": {
      "text/plain": [
       "array([[0.01      , 0.22951687],\n",
       "       [0.1       , 0.22046391],\n",
       "       [0.2       , 0.22669107],\n",
       "       [0.001     , 0.21662476],\n",
       "       [0.01      , 0.23459291],\n",
       "       [0.1       , 0.22250552],\n",
       "       [0.2       , 0.29132711]])"
      ]
     },
     "execution_count": 12,
     "metadata": {},
     "output_type": "execute_result"
    }
   ],
   "source": [
    "data_lr_np = data_lr_filtered.values\n",
    "x_lr = data_lr_np[:,0]\n",
    "y_lr = data_lr_np[:,1]\n",
    "data_lr_np "
   ]
  },
  {
   "cell_type": "code",
   "execution_count": 13,
   "metadata": {},
   "outputs": [
    {
     "data": {
      "image/png": "[encoded data removed]",
      "text/plain": [
       "<Figure size 432x288 with 1 Axes>"
      ]
     },
     "metadata": {
      "needs_background": "light"
     },
     "output_type": "display_data"
    }
   ],
   "source": [
    "from matplotlib import pyplot as plt\n",
    "\n",
    "plt.plot(x_lr,y_lr,\"ob\") \n",
    "plt.title('TransmogrifAI - PrimaIndians, Logistic Regression') \n",
    "plt.ylabel('Error') \n",
    "plt.xlabel('RegularizationParam')  \n",
    "plt.xticks(rotation=90)\n",
    "plt.show()"
   ]
  },
  {
   "cell_type": "code",
   "execution_count": 14,
   "metadata": {},
   "outputs": [],
   "source": [
    "data_rf = data.loc[data['modelType'] == 'OpRandomForestClassifier']"
   ]
  },
  {
   "cell_type": "code",
   "execution_count": 15,
   "metadata": {},
   "outputs": [],
   "source": [
    "data_rf_filtered = data_rf.iloc[:,[3,4]] "
   ]
  },
  {
   "cell_type": "code",
   "execution_count": 16,
   "metadata": {},
   "outputs": [
    {
     "data": {
      "text/plain": [
       "array([[ 3.        ,  0.2455237 ],\n",
       "       [ 6.        ,  0.24351753],\n",
       "       [12.        ,  0.24382302],\n",
       "       [ 3.        ,  0.2512013 ],\n",
       "       [ 6.        ,  0.23911939],\n",
       "       [12.        ,  0.23884932],\n",
       "       [ 3.        ,  0.33595339],\n",
       "       [ 6.        ,  0.33595339],\n",
       "       [12.        ,  0.33595339],\n",
       "       [ 3.        ,  0.30627968],\n",
       "       [ 6.        ,  0.30627968],\n",
       "       [12.        ,  0.30627968],\n",
       "       [ 3.        ,  0.31567357],\n",
       "       [ 6.        ,  0.31567357],\n",
       "       [12.        ,  0.31567357],\n",
       "       [ 3.        ,  0.33595339],\n",
       "       [ 6.        ,  0.33595339],\n",
       "       [12.        ,  0.33595339]])"
      ]
     },
     "execution_count": 16,
     "metadata": {},
     "output_type": "execute_result"
    }
   ],
   "source": [
    "data_rf_np = data_rf_filtered.values\n",
    "x_rf = data_rf_np[:,0]\n",
    "y_rf = data_rf_np[:,1]\n",
    "data_rf_np "
   ]
  },
  {
   "cell_type": "code",
   "execution_count": 17,
   "metadata": {},
   "outputs": [
    {
     "data": {
      "image/png": "[encoded data removed]",
      "text/plain": [
       "<Figure size 432x288 with 1 Axes>"
      ]
     },
     "metadata": {
      "needs_background": "light"
     },
     "output_type": "display_data"
    }
   ],
   "source": [
    "from matplotlib import pyplot as plt\n",
    "\n",
    "plt.plot(x_rf,y_rf,\"ob\") \n",
    "plt.title('TransmogrifAI - PrimaIndians, RandomForest') \n",
    "plt.ylabel('Error') \n",
    "plt.xlabel('maxDepth')  \n",
    "plt.xticks(rotation=90)\n",
    "plt.show()"
   ]
  },
  {
   "cell_type": "code",
   "execution_count": null,
   "metadata": {},
   "outputs": [],
   "source": []
  }
 ],
 "metadata": {
  "kernelspec": {
   "display_name": "Python 3",
   "language": "python",
   "name": "python3"
  },
  "language_info": {
   "codemirror_mode": {
    "name": "ipython",
    "version": 2
   },
   "file_extension": ".py",
   "mimetype": "text/x-python",
   "name": "python",
   "nbconvert_exporter": "python",
   "pygments_lexer": "ipython2",
   "version": "2.7.15"
  }
 },
 "nbformat": 4,
 "nbformat_minor": 2
}
